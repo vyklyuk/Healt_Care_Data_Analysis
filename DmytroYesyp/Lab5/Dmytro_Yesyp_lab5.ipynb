{
 "cells": [
  {
   "cell_type": "markdown",
   "id": "f567bf05-21c5-4cb5-ad18-dd708fa0d9a2",
   "metadata": {},
   "outputs": [],
   "source": [
    "<center>\n    <img src=\"https://cf-courses-data.s3.us.cloud-object-storage.appdomain.cloud/assets/logos/SN_web_lightmode_vertical.png\" width=\"300\" alt=\"cognitiveclass.ai logo\"  />\n</center>"
   ]
  },
  {
   "cell_type": "markdown",
   "id": "f617751c-bc8f-4069-8e33-f065037880c5",
   "metadata": {},
   "outputs": [],
   "source": [
    "# **Investigation of diabetes patients readmission among US hospitals**"
   ]
  },
  {
   "cell_type": "markdown",
   "id": "3836d616-7cac-4804-8bbb-4f128b9f44bb",
   "metadata": {},
   "outputs": [],
   "source": [
    "# Lab 5 Data Analysis with Python\n\nEstimated time needed: **45** minutes\n\nThis lab is dedicated to the study of machine learning classification methods. The goal is to predict whether the patient will be readmitted or not.\n\n## Objectives\n\n* Download DataSet from * .csv files\n* Conduct basic data analysis\n* Calculate new and change column types\n* Divide the DataSet into training and test\n* Use different machine learning classification methods\n* Combine classifiers into ensemble\n* Calculate accuracy and analyze errors\n* Combine all stages of data analysis with Pipeline"
   ]
  },
  {
   "cell_type": "markdown",
   "id": "2322d933-aa02-43ec-a5b3-550f505960d0",
   "metadata": {},
   "outputs": [],
   "source": [
    "## Table of Contents"
   ]
  },
  {
   "cell_type": "markdown",
   "id": "bc895a4f-060a-458e-b504-ba3e23052c08",
   "metadata": {},
   "outputs": [],
   "source": [
    "<div class=\"alert alert-block alert-info\" style=\"margin-top: 20px\">\n    <ol>\n        <li>Materials and methods\n            <ul>\n                <li>Prerequisites</li>\n            </ul>\n        </li>\n        <li>Import Libraries</li>\n        <li>Load the Dataset</li>\n        <li>Data pre-preparation</li>\n        <li>Pipiline Classification\n             <ul>\n                <li>RandomForestClassifier</li>\n                 <li>Cross-validation</li>\n                 <li>Accuracy</li>\n            </ul>\n        </li>\n         <li>Over-sampling proble</li>\n        <li>Ensemble of classifiers\n            <ul>\n                <li>Question 1</li>\n            </ul>\n        </li>\n        <li>Conclusions</li>\n        <li>Authors</li>\n    </ol>\n</div>"
   ]
  },
  {
   "cell_type": "markdown",
   "id": "97993905-24e3-41f6-aa4a-27f96c415897",
   "metadata": {},
   "outputs": [],
   "source": [
    "## Materials and methods"
   ]
  },
  {
   "cell_type": "markdown",
   "id": "5496450d-71cf-42a5-ae94-573a6768a852",
   "metadata": {},
   "outputs": [],
   "source": [
    "In this lab, we will learn how to download and pre-prepare data, classify and combine classifiers into an ensemble.\nThis lab consists of the following steps:\n* Download data - download and display data from a file\n* Preliminary data preparation - preliminary analysis of data structure, change of data structure and tables\n* Pipeline classification - classification and analysis by grouping stages\n    * Logistic regression - classification and analysis of accuracy and errors using logistic regression\n    * Over-sampling problem - solve the problem of uneven distribution of data\n    * Ensemble of classifiers - study various classifiers and methods of combining them into an ensemble"
   ]
  },
  {
   "cell_type": "markdown",
   "id": "8ddc9548-2d39-4f1e-90e5-f79a01b6c47f",
   "metadata": {},
   "outputs": [],
   "source": [
    "The data that we are going to use for this is a subset of an open source diabetes in US DataSet: https://www.kaggle.com/datasets/brandao/diabetes.\n> This dataset is public available for research.\nPlease include this citation if you plan to use this database:\nThe DataSet represents 10 years (1999-2008) of clinical care at 130 US hospitals and integrated delivery networks."
   ]
  },
  {
   "cell_type": "markdown",
   "id": "0876940d-567d-449e-9505-4d40adea90f7",
   "metadata": {},
   "outputs": [],
   "source": [
    "## Prerequisites\n* [Python](https://www.python.org) - middle level\n* [Pandas](https://pandas.pydata.org) - middle level \n* [Matplotlib](https://matplotlib.org) - basic level\n* [SeaBorn](https://seaborn.pydata.org) - basic level\n* [Scikit-Learn](https://scikit-learn.org/stable/) - middle level "
   ]
  },
  {
   "cell_type": "markdown",
   "id": "9561f0f6-d578-4d01-824f-80861b930910",
   "metadata": {},
   "outputs": [],
   "source": [
    "## Import Libraries/Define Auxiliary Functions"
   ]
  },
  {
   "cell_type": "markdown",
   "id": "86ae481a-12e5-4fae-87a9-8723e706472d",
   "metadata": {},
   "outputs": [],
   "source": [
    "Some libraries should be imported before you can begin."
   ]
  },
  {
   "cell_type": "code",
   "id": "dd46c665-c86a-44d8-a98a-7734f4d32dab",
   "metadata": {},
   "outputs": [],
   "source": [
    "!pip install imbalanced-learn"
   ]
  },
  {
   "cell_type": "code",
   "id": "224f4b6c-9a36-4051-b29b-73253c2af435",
   "metadata": {},
   "outputs": [],
   "source": [
    "import pandas as pd\nimport matplotlib.pyplot as plt\nimport numpy as np\nimport seaborn as sns\nfrom sklearn.preprocessing import OrdinalEncoder\nfrom sklearn.preprocessing import StandardScaler                         \nfrom sklearn.compose import make_column_transformer\nfrom sklearn import set_config\nfrom sklearn.model_selection import train_test_split\nfrom imblearn.pipeline import make_pipeline\nfrom sklearn.metrics import ConfusionMatrixDisplay\nfrom sklearn.metrics import plot_confusion_matrix\nfrom imblearn.over_sampling import RandomOverSampler\nfrom sklearn.linear_model import LogisticRegression\nfrom sklearn.neighbors import KNeighborsClassifier\nfrom sklearn.svm import SVC\nfrom sklearn.gaussian_process import GaussianProcessClassifier\nfrom sklearn.gaussian_process.kernels import RBF\nfrom sklearn.tree import DecisionTreeClassifier\nfrom sklearn.ensemble import RandomForestClassifier, AdaBoostClassifier\nfrom sklearn.naive_bayes import GaussianNB\nfrom sklearn.discriminant_analysis import QuadraticDiscriminantAnalysis\nfrom sklearn.neural_network import MLPClassifier\nfrom sklearn.ensemble import GradientBoostingClassifier\nfrom sklearn.ensemble import VotingClassifier\nfrom sklearn.ensemble import ExtraTreesClassifier\nfrom sklearn import tree\nfrom sklearn.ensemble import ExtraTreesClassifier\nfrom sklearn.metrics import recall_score, precision_score\nimport time\nfrom sklearn.model_selection import cross_val_score\nfrom sklearn.model_selection import cross_val_predict"
   ]
  },
  {
   "cell_type": "markdown",
   "id": "b9d11590-2c05-4b98-9ff0-c29eb3085ae6",
   "metadata": {},
   "outputs": [],
   "source": [
    "Let's disable warnings by **[warnings.filterwarnings()](https://docs.python.org/3/library/warnings.html)**"
   ]
  },
  {
   "cell_type": "code",
   "id": "a76778f3-6303-414c-9aa4-279f9fb00abe",
   "metadata": {},
   "outputs": [],
   "source": [
    "import warnings\nwarnings.filterwarnings('ignore')"
   ]
  },
  {
   "cell_type": "markdown",
   "id": "ad78f147-dd5c-4728-8cad-1958d0e237cd",
   "metadata": {},
   "outputs": [],
   "source": [
    "The next step is to download the data file from the repository by **[read_csv()](https://pandas.pydata.org/docs/reference/api/pandas.read_csv.html)**.\n\nWe will use the same DataSet like in previous lab. Therefore next some steps will be the same."
   ]
  },
  {
   "cell_type": "code",
   "id": "8371d135-3ace-4670-b3df-4ebd8c0cc686",
   "metadata": {},
   "outputs": [],
   "source": [
    "df = pd.read_csv('https://cf-courses-data.s3.us.cloud-object-storage.appdomain.cloud/IBMSkillsNetwork-GPXX05SZEN/clean_df.csv', index_col=0)"
   ]
  },
  {
   "cell_type": "markdown",
   "id": "16a7b293-caa5-4b04-bab4-3e5db633d5b5",
   "metadata": {},
   "outputs": [],
   "source": [
    "Now let's look at our DataSet."
   ]
  },
  {
   "cell_type": "code",
   "id": "39995486-1aa5-4d81-854b-61b876c3af41",
   "metadata": {},
   "outputs": [],
   "source": [
    "df"
   ]
  },
  {
   "cell_type": "markdown",
   "id": "91aca2e6-b8d0-49a6-8e1b-e3edfd49ad52",
   "metadata": {},
   "outputs": [],
   "source": [
    "## Data pre-preparation"
   ]
  },
  {
   "cell_type": "markdown",
   "id": "0aaf39b4-5f2f-416c-a42a-ebf51e6408b8",
   "metadata": {},
   "outputs": [],
   "source": [
    "Let's study DataSet. As you can see DataSet consist 101388 rows × 55 columns. As you can see DataSet consist information of different types. We should be sure that python recognized data types in right way. To do this we shoul use **[pandas.info()](https://pandas.pydata.org/docs/reference/api/pandas.DataFrame.info.html?highlight=info#pandas.DataFrame.info)**."
   ]
  },
  {
   "cell_type": "code",
   "id": "d6299914-7a11-48a7-9cbd-1bc49fc76f4a",
   "metadata": {},
   "outputs": [],
   "source": [
    "df.info()"
   ]
  },
  {
   "cell_type": "markdown",
   "id": "c5c06655-602c-4364-bada-7adbffd87ec0",
   "metadata": {},
   "outputs": [],
   "source": [
    "<details>\n<summary><b>Click to see attribute information</b></summary>\n\n1. `Encounter Id` - Unique identifier of an encounter  (int64)\n2. `Patient Number` - Unique identifier of a patient (int64)\n3. `Race` - (categorical: `Caucasian` `AfricanAmerican` `Other` `Asian` `Hispanic`)\n4. `Gender` - (categorical: `Female` `Male` `Unknown/Invalid`)\n5. `Age` -  Grouped in 10-year intervals (categorical: `[0-10)` `[10-20)` `[20-30)` `[30-40)` `[40-50)` `[50-60)` `[60-70)` `[70-80)` `[80-90)` `[90-100)`)\n6. `Weight` -  Weight in pounds (categorical: `[75-100)` `[50-75)` `[0-25)` `[100-125)` `[25-50)` `[125-150)` `[175-200)` `[150-175)` `>200`)\n7. `Admission Type Id` - Integer identifier corresponding to 9 distinct values, for example, emergency, urgent, elective, newborn, and not available (int64)\n8. `Discharge Disposition Id` - Integer identifier corresponding to 29 distinct values, for example, discharged to home, expired, and not available (int64)\n9. `Admission Source Id` - Integer identifier corresponding to 21 distinct values, for example, physician referral, emergency room, and transfer from a hospital (int64)\n10. `Time In Hospital` - Integer number of days between admission and discharge (int64)\n11. `Payer Code` - Integer identifier corresponding to 23 distinct values, for example, Blue Cross\\Blue Shield, Medicare, and self-pay (categorical)\n12. `Medical Specialty` - Integer identifier of a specialty of the admitting physician, corresponding to 84 distinct values, for example, cardiology, internal medicine, family\\general practice, and surgeon (categorical)\n13. `Num Lab Procedures` - Number of lab tests performed during the encounter (float64)\n14. `Num Procedures` -  Number of procedures (other than lab tests) performed during the encounter (int64)\n15. `Num Medications` - Number of distinct generic names administered during the encounter (int64)\n16. `Number Outpatient` - Number of outpatient visits of the patient in the year preceding the encounter (int64)\n17. `Number Emergency` - Number of emergency visits of the patient in the year preceding the encounter (int64)\n18. `Number Inpatient` - Number of inpatient visits of the patient in the year preceding the encounter(int64)\n19. `Diagnosis1` - The primary diagnosis (coded as first three digits of ICD9) (categorical)\n20. `Diagnosis2` - Secondary diagnosis (coded as first three digits of ICD9) (categorical)\n21. `Diagnosis3` - Additional secondary diagnosis (coded as first three digits of ICD9) (categorical)\n22. `Number Diagnoses` - Number of diagnoses entered to the system (float64)\n23. `Max Glu Serum` - Indicates the range of the result or if the test was not taken. Values: `>200`, `>300`, `normal`, and `none` if not measured (categorical)\n24. `A1c Result` - Indicates the range of the result or if the test was not taken. Values: `>8` if the result was greater than 8%, `>7` if the result was greater than 7% but less than 8%, `normal` if the result was less than 7%, and “none” if not measured (categorical)\n25. `Metformin` - patient medications (categorical)\n26. `Repaglinide` - patient medications (categorical)\n27. `Nateglinide` - patient medications (categorical)\n28. `Chlorpropamide` - patient medications (categorical)\n29. `Glimepiride` - patient medications (categorical)\n30. `Acetohexamide` - patient medications (categorical)\n31. `Glipizide` - patient medications (categorical)\n32. `Glyburide` - patient medications (categorical)\n33. `Tolbutamide` - patient medications (categorical)\n34. `Pioglitazone` - patient medications (categorical)\n35. `Acarbose` - patient medications (categorical)\n36. `Miglitol` - patient medications (categorical)\n37. `Troglitazone` - patient medications (categorical)\n38. `Tolazamide` - patient medications (categorical)\n39. `Examide` - patient medications (categorical)\n40. `Citoglipton` - patient medications (categorical)\n41. `Insulin` - patient medications (categorical)\n42. `Glyburide-metformin` - patient medications (categorical)\n43. `Glipizide-metformin` - patient medications (categorical)\n44. `Glimepiride-pioglitazone` - patient medications (categorical)\n45. `Metformin-rosiglitazone` - patient medications (categorical)\n46. `Metformin-pioglitazone` - patient medications (categorical)\n47. `Diabetes Medication` -  Indicates if there was any diabetic medication prescribed. Values: `True` and `False` (bool)\n48. `Readmitted` [Target Column] - Days to inpatient readmission. Values: `<30` if the patient was readmitted in less than 30 days, `>30` if the patient was readmitted in more than 30 days, and `No` for no record of readmission (categorical)\n49. `ages-binned`(categorical)\n50. `change_yes` - columns created in previous labs (int64)\n51. `change_no` - columns created in previous labs (int64)\n52. `Increased` - columns created in previous labs (int64)\n53. `No` - columns created in previous labs (int64)\n54. `Steady` - columns created in previous labs (int64)\n55. `Decreased` - columns created in previous labs (int64)\n    \n    </details>"
   ]
  },
  {
   "cell_type": "markdown",
   "id": "e16da36d-ec06-4a92-b0cc-b14ebd4f34f5",
   "metadata": {},
   "outputs": [],
   "source": [
    "Let's study information of DataSet columns."
   ]
  },
  {
   "cell_type": "markdown",
   "id": "f5cf7d2a-988c-4f11-b1ab-c0932d407865",
   "metadata": {},
   "outputs": [],
   "source": [
    "Here we have a lot of columns that have a limited set of values and their type is \"object\", so for correct analysis, change their type to categorical."
   ]
  },
  {
   "cell_type": "code",
   "id": "e1a16dda-14b7-470b-99f0-6ac5158b322a",
   "metadata": {},
   "outputs": [],
   "source": [
    "obj_cols = df.select_dtypes(include='object').columns\n\ndf[obj_cols] = df[obj_cols].astype('category')"
   ]
  },
  {
   "cell_type": "markdown",
   "id": "40d36efa-a383-453a-9e2a-38bbd468d835",
   "metadata": {},
   "outputs": [],
   "source": [
    "Now let's delete columns that have no impact on our model, as we did in the previous lab.(**[pandas.DataFrame.drop()](https://pandas.pydata.org/docs/reference/api/pandas.DataFrame.drop.html)**)."
   ]
  },
  {
   "cell_type": "code",
   "id": "5d7f4846-14f8-4e19-a78a-147ec8fe4ab4",
   "metadata": {},
   "outputs": [],
   "source": [
    "df.drop(['Encounter Id', 'Patient Number', 'Payer Code','Examide','Citoglipton'], inplace=True, axis=1)"
   ]
  },
  {
   "cell_type": "markdown",
   "id": "4de8c2f2-bd22-473d-9975-3a6ebacfd240",
   "metadata": {},
   "outputs": [],
   "source": [
    "The resulting dataset will be sized (**[pandas.DataFrame.shape](https://pandas.pydata.org/docs/reference/api/pandas.DataFrame.shape.html?highlight=shape#pandas.DataFrame.shape)**):"
   ]
  },
  {
   "cell_type": "code",
   "id": "7e79c49a-3226-47c6-9b58-48d3228cd4a0",
   "metadata": {},
   "outputs": [],
   "source": [
    "df.shape"
   ]
  },
  {
   "cell_type": "code",
   "id": "c40209d1-31b2-4f49-ad1b-b2e01d4648aa",
   "metadata": {},
   "outputs": [],
   "source": [
    "df.head()"
   ]
  },
  {
   "cell_type": "markdown",
   "id": "bd88ebd4-f71a-450e-a672-f918f6425c2e",
   "metadata": {},
   "outputs": [],
   "source": [
    "## Pipiline Classification"
   ]
  },
  {
   "cell_type": "markdown",
   "id": "63b46220-dd5c-4c62-a4e4-42d1f7fb0cf5",
   "metadata": {},
   "outputs": [],
   "source": [
    "### RandomForestClassifier"
   ]
  },
  {
   "cell_type": "markdown",
   "id": "6df19c72-cec1-446f-9ccd-2713ea92dece",
   "metadata": {},
   "outputs": [],
   "source": [
    "Before classification, the dataset must be divided into input and target factors."
   ]
  },
  {
   "cell_type": "code",
   "id": "1ba3e904-8acc-4016-a980-0a3ce2ae14fe",
   "metadata": {},
   "outputs": [],
   "source": [
    "x = df.drop(columns = ['Readmitted'])"
   ]
  },
  {
   "cell_type": "code",
   "id": "981a7acd-ca16-4cdd-a9ce-757ea7ace4ed",
   "metadata": {},
   "outputs": [],
   "source": [
    "y = df['Readmitted']"
   ]
  },
  {
   "cell_type": "code",
   "id": "d9a6537d-01c7-4907-b6a8-c1ae31000037",
   "metadata": {},
   "outputs": [],
   "source": [
    "x.info()"
   ]
  },
  {
   "cell_type": "markdown",
   "id": "13fc2de5-cfee-4f26-a8d0-e7e99eb3d3fb",
   "metadata": {},
   "outputs": [],
   "source": [
    "You can see the input data set consists from 49 columns.\nAs you can see, 31 columns are categorical, 15 - numerical, 1 boolean and 2 float. To make classification, all numerical, boolean and float fields must be normalized and categorical fields must be digitized. This can be automated using the **[sklearn.preprocessing.OrdinalEncoder()](https://scikit-learn.org/stable/modules/generated/sklearn.preprocessing.OrdinalEncoder.html)** and **[sklearn. preprocessing.StandardScaler()](https://scikit-learn.org/stable/modules/generated/sklearn.preprocessing.StandardScaler.html)**.\n\nSince the machine learning process consists of several steps, each of which has the function `fit`,` predict` and etc, we can combine all these stages into one block using `Pipeline` (**[sklearn.pipeline.make_pipeline()](https://scikit-learn.org/stable/modules/generated/sklearn.pipeline.make_pipeline.html)**), **[sklearn.compose.make_column_transformer()](https://scikit-learn.org/stable/modules/generated/sklearn.compose.make_column_transformer.html)** and visualize it with: **[sklearn.set_config()](https://scikit-learn.org/stable/modules/generated/sklearn.set_config.html)**."
   ]
  },
  {
   "cell_type": "markdown",
   "id": "871a62ad-7e4f-4b62-b060-276dc6bb6832",
   "metadata": {},
   "outputs": [],
   "source": [
    "Select all categorical columns"
   ]
  },
  {
   "cell_type": "code",
   "id": "4d0489e5-9cb6-445e-836e-b4555ce7ebdb",
   "metadata": {},
   "outputs": [],
   "source": [
    "cat_col = x.select_dtypes(include=['category']).columns"
   ]
  },
  {
   "cell_type": "markdown",
   "id": "4edcfdd1-5032-4c48-88d6-5afe09df3391",
   "metadata": {},
   "outputs": [],
   "source": [
    "Here select all numerical, boolean and float columns"
   ]
  },
  {
   "cell_type": "code",
   "id": "bbb015c7-dd7b-46df-8f86-7cf6ef643191",
   "metadata": {},
   "outputs": [],
   "source": [
    "numeric_col = x.select_dtypes(include=['int64','float','boolean']).columns"
   ]
  },
  {
   "cell_type": "markdown",
   "id": "cbd392c1-098f-4f8f-b2c2-b4301592d9b3",
   "metadata": {},
   "outputs": [],
   "source": [
    "Now create transformer for our previously selected columns."
   ]
  },
  {
   "cell_type": "code",
   "id": "f14c6acb-fa42-4807-b30f-32128cb8d553",
   "metadata": {},
   "outputs": [],
   "source": [
    "trans = make_column_transformer((OrdinalEncoder(handle_unknown = 'use_encoded_value',unknown_value = -1),cat_col),\n                                (StandardScaler(),numeric_col),\n                                remainder = 'passthrough')\nset_config(display = 'diagram')\ntrans"
   ]
  },
  {
   "cell_type": "markdown",
   "id": "31c1a997-8ec1-4d23-a662-2397d68ecb1e",
   "metadata": {},
   "outputs": [],
   "source": [
    "Next we must separate DataSets for train and test DataSets for calculate accuracy of models. To do this we can use **[sklearn.model_selection.train_test_split()](https://scikit-learn.org/stable/modules/generated/sklearn.model_selection.train_test_split.html)**. Let's separate DataSets in 0.33 proportion train/test"
   ]
  },
  {
   "cell_type": "code",
   "id": "3bcf6f6a-173d-41f0-a131-439053f0a71c",
   "metadata": {},
   "outputs": [],
   "source": [
    "x_train,x_test,y_train,y_test = train_test_split(x,y,test_size = 0.33, shuffle=False)"
   ]
  },
  {
   "cell_type": "code",
   "id": "08b9e75f-ee00-42a3-9c1e-2c42d598425a",
   "metadata": {},
   "outputs": [],
   "source": [
    "x_train.shape"
   ]
  },
  {
   "cell_type": "code",
   "id": "dacd5e67-781c-4485-a4e2-d68d9b498e5d",
   "metadata": {},
   "outputs": [],
   "source": [
    "x_test.shape"
   ]
  },
  {
   "cell_type": "markdown",
   "id": "71404f77-f100-4408-954b-6360b078e66f",
   "metadata": {},
   "outputs": [],
   "source": [
    "Now let's create a RandomForestClassifier model (**[sklearn.linear_model.RandomForestClassifier()](https://scikit-learn.org/stable/modules/generated/sklearn.ensemble.RandomForestClassifier.html)**) and add it to our `Pipeline`."
   ]
  },
  {
   "cell_type": "code",
   "id": "1fa2abce-bf61-456f-a232-fac137c96cb2",
   "metadata": {},
   "outputs": [],
   "source": [
    "rfc = RandomForestClassifier()\npipe_rfc = make_pipeline(trans,rfc)"
   ]
  },
  {
   "cell_type": "markdown",
   "id": "c4402df9-7ac3-41cb-977f-7e5bbdbc86cb",
   "metadata": {},
   "outputs": [],
   "source": [
    "Let's fit our model and calculate its accuracy."
   ]
  },
  {
   "cell_type": "code",
   "id": "18d071df-a673-4b8e-9a08-7a75486e1463",
   "metadata": {},
   "outputs": [],
   "source": [
    "pipe_rfc.fit(x_train,y_train)"
   ]
  },
  {
   "cell_type": "markdown",
   "id": "413b6208-6a5c-4f96-883f-13c8b798a9ce",
   "metadata": {},
   "outputs": [],
   "source": [
    "### Cross-validation"
   ]
  },
  {
   "cell_type": "markdown",
   "id": "05ed6b59-4048-4427-b00a-9ae1e230a550",
   "metadata": {},
   "outputs": [],
   "source": [
    "Cross-validation is a technique in machine learning where the available DataSet is split into multiple subsets or folds, and the model is trained and tested on different subsets in a rotation. The primary purpose of cross-validation is to estimate how well the model is expected to perform when it is deployed to make predictions on new, unseen data.\n\nOne common way to implement cross-validation is by using the cross_val_score helper function, which takes an estimator (the model to be trained and tested) and the DataSet, and returns the scores from each fold. This allows for easy evaluation and comparison of different models based on their performance metrics."
   ]
  },
  {
   "cell_type": "code",
   "id": "ad84663d-4be0-4f46-affd-a8f31a15319d",
   "metadata": {},
   "outputs": [],
   "source": [
    "Rcross = cross_val_score(pipe_rfc,x ,y, cv = 4)\nprint(Rcross)\nprint(\"The mean of the folds are\", Rcross.mean(), \"and the standart deviation is\", Rcross.std())"
   ]
  },
  {
   "cell_type": "code",
   "id": "50f7dd5d-a459-462e-83e8-35613b368a28",
   "metadata": {},
   "outputs": [],
   "source": [
    "yhat = cross_val_predict(pipe_rfc,x,y,cv = 4)\nyhat[0:5]"
   ]
  },
  {
   "cell_type": "markdown",
   "id": "7b788355-fe74-46c3-a739-9f26f78ec66d",
   "metadata": {},
   "outputs": [],
   "source": [
    "### Accuracy"
   ]
  },
  {
   "cell_type": "code",
   "id": "ccdb35f2-6383-4a82-a910-20b006c24c9f",
   "metadata": {},
   "outputs": [],
   "source": [
    "scores_train = pipe_rfc.score(x_train, y_train)\nscores_test = pipe_rfc.score(x_test, y_test)\nprint('Training DataSet accuracy: {: .1%}'.format(scores_train), 'Test DataSet accuracy: {: .1%}'.format(scores_test))"
   ]
  },
  {
   "cell_type": "markdown",
   "id": "1c96a702-9bd8-4a51-b11e-f3229f209575",
   "metadata": {},
   "outputs": [],
   "source": [
    " As we use a random forest classifier, accuracy can change a little, so to get a better result, you can restart an upper block of code."
   ]
  },
  {
   "cell_type": "markdown",
   "id": "86b73ae3-168b-4ea8-81c6-4c36d758a22e",
   "metadata": {},
   "outputs": [],
   "source": [
    "Let's evaluate the correctness of the classification with: **[sklearn.metrics.plot_confusion_matrix()](https://scikit-learn.org/stable/modules/generated/sklearn.metrics.plot_confusion_matrix.html)** and convince of these conclusions."
   ]
  },
  {
   "cell_type": "code",
   "id": "cc9a2b3f-f6d8-4acd-bd22-57b9e2f04e0e",
   "metadata": {},
   "outputs": [],
   "source": [
    "plot_confusion_matrix(pipe_rfc, x_test, y_test,cmap=plt.cm.Blues)\nplt.show()"
   ]
  },
  {
   "cell_type": "markdown",
   "id": "113e72f6-8336-4182-91a0-c94410d028be",
   "metadata": {},
   "outputs": [],
   "source": [
    "As you can see, for test accuracy, we get ~57%.\n\nThe `Recall` metric is used to assess the accuracy of only purchased goods: **[sklearn.metrics.recall_score()](https://scikit-learn.org/stable/modules/generated/sklearn.metrics.recall_score.html)**"
   ]
  },
  {
   "cell_type": "code",
   "id": "8be4c389-2ba8-4b61-9b59-ce356b56c3f8",
   "metadata": {},
   "outputs": [],
   "source": [
    "scores_train = recall_score(y_train, pipe_rfc.predict(x_train), average='micro')\nscores_test = recall_score(y_test, pipe_rfc.predict(x_test), average='micro')\nprint('Training DataSet accuracy: {: .1%}'.format(scores_train), 'Test DataSet accuracy: {: .1%}'.format(scores_test))"
   ]
  },
  {
   "cell_type": "markdown",
   "id": "34d13db6-cbf0-4306-80de-699c1df7ecef",
   "metadata": {},
   "outputs": [],
   "source": [
    "As can be seen from this metric, the accuracy is very low. Moreover, the accuracy of the training and test data are approximately the same. This means that in order to increase this metric of accuracy, it is necessary to increase the training sample. Let's analyze it."
   ]
  },
  {
   "cell_type": "markdown",
   "id": "ef69b7b7-32f7-4fa0-9bac-43ad04094069",
   "metadata": {},
   "outputs": [],
   "source": [
    "### Over-sampling problem"
   ]
  },
  {
   "cell_type": "markdown",
   "id": "01214051-a4d7-4965-b9ce-9d0e9f293fcb",
   "metadata": {},
   "outputs": [],
   "source": [
    "Let's analyze readmission (**[seaborn.countplot()](https://seaborn.pydata.org/generated/seaborn.countplot.html)**):"
   ]
  },
  {
   "cell_type": "code",
   "id": "e56b1000-be1f-4dab-9a8c-d421b484bd0b",
   "metadata": {},
   "outputs": [],
   "source": [
    "sns.countplot(x = y)"
   ]
  },
  {
   "cell_type": "markdown",
   "id": "927d3ed2-bef6-4d97-8a53-7bbac7d3c92a",
   "metadata": {},
   "outputs": [],
   "source": [
    "As you can see, the number of rejections is much greater than the number of accepted proposals. To balance the data set, we can use a special function: **[imblearn.over_sampling.RandomOverSampler()](https://imbalanced-learn.org/stable/references/generated/imblearn.over_sampling.RandomOverSampler.html)**:"
   ]
  },
  {
   "cell_type": "code",
   "id": "62297fe8-d93a-4853-8f24-a69c1fa321da",
   "metadata": {},
   "outputs": [],
   "source": [
    "ROS = RandomOverSampler()\npipe_ros = make_pipeline(trans,ROS)\no_x, o_y = pipe_ros.fit_resample(x_test,y_test)\nsns.countplot(x = o_y)"
   ]
  },
  {
   "cell_type": "markdown",
   "id": "83459584-c283-48ae-bc2b-cb59d55e387d",
   "metadata": {},
   "outputs": [],
   "source": [
    "Let's add this function to our `Pipeline`, fit the model and recalculate the accuracy."
   ]
  },
  {
   "cell_type": "code",
   "id": "f5596820-2b51-4d15-a443-37de35c71b8f",
   "metadata": {},
   "outputs": [],
   "source": [
    "pipe_s_rfc = make_pipeline(trans, ROS, rfc)\npipe_s_rfc"
   ]
  },
  {
   "cell_type": "code",
   "id": "c5012708-d1ee-4d70-aa40-53442c46e9ef",
   "metadata": {},
   "outputs": [],
   "source": [
    "pipe_s_rfc.fit(x_train,y_train)\nscores_train = recall_score(y_train, pipe_s_rfc.predict(x_train), average = 'weighted')\nscores_test = recall_score(y_test, pipe_s_rfc.predict(x_test), average = 'weighted')\nprint('Training DataSet accuracy: {: .1%}'.format(scores_train), 'Test DataSet accuracy: {: .1%}'.format(scores_test))"
   ]
  },
  {
   "cell_type": "markdown",
   "id": "8e7dd0cf-9b49-4ac8-9132-297756828a8b",
   "metadata": {},
   "outputs": [],
   "source": [
    "As you can see, balancing the dataset has led to a decrease in the accuracy of the `Recall` metric.\n\nLet's analyze the errors of the model."
   ]
  },
  {
   "cell_type": "code",
   "id": "96919436-aafb-4b1f-aa84-65156398f0d9",
   "metadata": {},
   "outputs": [],
   "source": [
    "plot_confusion_matrix(pipe_s_rfc, x_test, y_test,cmap=plt.cm.Blues)\nplt.show()"
   ]
  },
  {
   "cell_type": "markdown",
   "id": "dd82e76f-553a-49d1-84d3-cdcddcbee1d7",
   "metadata": {},
   "outputs": [],
   "source": [
    "As you can see values slightly increased. However, the error is high when the model predicts a patient readmission. The metric `Precision` is used to assess this accuracy."
   ]
  },
  {
   "cell_type": "markdown",
   "id": "71a1e340-6ee2-471d-8c29-d343af909784",
   "metadata": {},
   "outputs": [],
   "source": [
    "### Ensemble of classifiers"
   ]
  },
  {
   "cell_type": "markdown",
   "id": "73757401-2ba9-4489-b5e3-c19d90b4e041",
   "metadata": {},
   "outputs": [],
   "source": [
    "Let's test other classifiers and compare the results.\nWe will test:\n\n* [Logistic Regression](https://scikit-learn.org/stable/modules/generated/sklearn.linear_model.LogisticRegression.html?highlight=logistic%20regression#sklearn.linear_model.LogisticRegression)\n* [Decision Tree](https://scikit-learn.org/stable/modules/generated/sklearn.tree.DecisionTreeClassifier.html?highlight=decisiontreeclassifier#sklearn.tree.DecisionTreeClassifier)\n* [Random Forest](https://scikit-learn.org/stable/modules/generated/sklearn.ensemble.RandomForestClassifier.html?highlight=randomforestclassifier#sklearn.ensemble.RandomForestClassifier)\n* [Gaussian Naive Bayes](https://scikit-learn.org/stable/modules/generated/sklearn.naive_bayes.GaussianNB.html)\n* [Ada Boost Classifier](https://scikit-learn.org/stable/modules/generated/sklearn.ensemble.AdaBoostClassifier.html?highlight=adaboostclassifier#sklearn.ensemble.AdaBoostClassifier)\n* [Etra Tree Classifier](https://scikit-learn.org/stable/modules/generated/sklearn.ensemble.ExtraTreesClassifier.html)\n* [Gradient Boosting Classifier](https://scikit-learn.org/stable/modules/generated/sklearn.ensemble.GradientBoostingClassifier.html)"
   ]
  },
  {
   "cell_type": "markdown",
   "id": "4be21953-1620-4cbd-b916-1be9b3ceda40",
   "metadata": {},
   "outputs": [],
   "source": [
    "In addition, different classifiers may err in different situations. Therefore, to compensate for each other's mistakes, it is necessary to use model ensembles by Voting Classifier.\n\nA **[Voting Classifier](https://scikit-learn.org/stable/modules/generated/sklearn.ensemble.VotingClassifier.html)** is a machine learning model that trains on an ensemble of numerous models and predicts an output (class) based on their highest probability of chosen class as the output.\nIt simply aggregates the findings of each classifier passed into Voting Classifier and predicts the output class based on the highest majority of voting. The idea is instead of creating separate dedicated models and finding the accuracy for each them, we create a single model which trains by these models and predicts output based on their combined majority of voting for each output class.\n\nVoting Classifier supports two types of votings.\n\n**Hard Voting**: In hard voting, the predicted output class is a class with the highest majority of votes i.e the class which had the highest probability of being predicted by each of the classifiers. Suppose three classifiers predicted the output class(A, A, B), so here the majority predicted A as output. Hence A will be the final prediction.\n\n\n**Soft Voting**: In soft voting, the output class is the prediction based on the average of probability given to that class. Suppose given some input to three models, the prediction probability for class A = (0.30, 0.47, 0.53) and B = (0.20, 0.32, 0.40). So the average for class A is 0.4333 and B is 0.3067, the winner is clearly class A because it had the highest probability averaged by each classifier.\n"
   ]
  },
  {
   "cell_type": "code",
   "id": "da07bccb-69d7-4e31-af17-b048d701e298",
   "metadata": {},
   "outputs": [],
   "source": [
    "clf_s = make_pipeline(trans, ROS)\nnames = [\"Logistic Regression\",\n         \"Decision Tree\", \"Random Forest\",\"Gaussian Naive Bayes\"]\nclassifiers = [\n    LogisticRegression(),\n    DecisionTreeClassifier(max_depth=8),\n    RandomForestClassifier(n_estimators=10, max_features=1),\n    GaussianNB(),\n    ]\n\nscores_train = []\nscores_test = []\nscores_train_s = []\nscores_test_s = []\n"
   ]
  },
  {
   "cell_type": "markdown",
   "id": "b63fcec8-156a-4ff4-878c-b21451463714",
   "metadata": {},
   "outputs": [],
   "source": [
    "You can use other classifiers such as Extra tree classifier, Gradient Boosting Classifier ,etc. But it takes significantly more time to calculate."
   ]
  },
  {
   "cell_type": "markdown",
   "id": "9b177d64-374c-44cc-a712-1289e8203fbf",
   "metadata": {},
   "outputs": [],
   "source": [
    "<div class=\"alert alert-danger alertdanger\" style=\"margin-top: 20px\">\n<h1> Question  1: </h1>\n\n<b>Try out other classification models.</b>\n\n</div>"
   ]
  },
  {
   "cell_type": "code",
   "id": "92f5aaee-942e-493e-a44a-b09c95ee6d2a",
   "metadata": {},
   "outputs": [],
   "source": [
    "# Write your code below and press Shift+Enter to execute"
   ]
  },
  {
   "cell_type": "markdown",
   "id": "1c476ccf-7e98-4c35-b5ab-b2b3af05ff3b",
   "metadata": {},
   "outputs": [],
   "source": [
    "<details><summary>Click <b>here</b> for the solution</summary>\n    \n```python\n\nnames += [\"Ada Boost Classifier\",\"Etra Tree Classifier\",\"Gradient Boosting Classifier\"]\nclassifiers += [\n    AdaBoostClassifier(),\n    ExtraTreesClassifier(),\n    GradientBoostingClassifier(n_estimators=100, learning_rate=1.0, max_depth=1, random_state=0),\n    ]\n```\n    \n</details>"
   ]
  },
  {
   "cell_type": "markdown",
   "id": "7c9ba293-162e-482e-a916-610684ae3ba5",
   "metadata": {},
   "outputs": [],
   "source": [
    "Run all classifiers."
   ]
  },
  {
   "cell_type": "code",
   "id": "60d8a4d9-0103-4745-8ff5-9f5e98667752",
   "metadata": {},
   "outputs": [],
   "source": [
    "est = [(str(est), est) for est in classifiers]\neclf = [VotingClassifier(\n     estimators=est,\n     voting='hard')]\nnames += [\"Voting Classifier\"]\nclassifiers += eclf\nfor name, classif in zip(names, classifiers):\n    start_time = time.time()\n    print(name,'fitting.....',end = '')\n    clf = make_pipeline(trans, classif)\n    clf.fit(x_train,y_train)\n    score_train = recall_score(y_train, clf.predict(x_train), average='micro')\n    score_test = recall_score(y_test, clf.predict(x_test), average='micro')\n    scores_train.append(score_train)\n    scores_test.append(score_test)\n    \n    clf_s = make_pipeline(trans, ROS, classif)\n    clf_s.fit(x_train,y_train)\n    score_train_s = recall_score(y_train, clf_s.predict(x_train), average='micro')\n    score_test_s = recall_score(y_test, clf_s.predict(x_test), average='micro')\n    scores_train_s.append(score_train_s)\n    scores_test_s.append(score_test_s)\n    end_time = time.time()\n    print(\" [\",round(end_time - start_time,2),\"s]\")"
   ]
  },
  {
   "cell_type": "markdown",
   "id": "44676680-1bca-4a7a-bdfc-f4e86822e66e",
   "metadata": {},
   "outputs": [],
   "source": [
    "Let's compare the accuracy of classifiers for balanced and unbalanced data sets."
   ]
  },
  {
   "cell_type": "code",
   "id": "f781c7df-2b27-4854-86a4-be5af12e8f84",
   "metadata": {},
   "outputs": [],
   "source": [
    "res = pd.DataFrame(index = names)\nres['Train'] = np.array(scores_train)\nres['Test'] = np.array(scores_test)\nres['Train Over Sampler'] = np.array(scores_train_s)\nres['Test Over Sampler'] = np.array(scores_test_s)\n\nres.index.name = \"Classifier accuracy\"\npd.options.display.float_format = '{:,.2f}'.format\nres"
   ]
  },
  {
   "cell_type": "markdown",
   "id": "8fbdaba4-cdb0-4abb-ae9b-f133bfd56a68",
   "metadata": {},
   "outputs": [],
   "source": [
    "Diagram representation of table above."
   ]
  },
  {
   "cell_type": "code",
   "id": "dd8e7ab8-ae64-45c5-aa82-e790a0e11cdd",
   "metadata": {},
   "outputs": [],
   "source": [
    "fig, ax = plt.subplots(figsize=(10,6))\nax.bar(names, scores_test)\nax.bar(names, scores_test_s)\nax.legend(['Test', 'Test Over Sampler'])\n\nax.set_title('Calassifiers Accuracy')\nax.set_xlabel('Classifier')\nax.set_ylabel('Accuracy')\n\nplt.xticks(rotation=45)\nplt.show()"
   ]
  },
  {
   "cell_type": "markdown",
   "id": "d50b0d71-ce01-4bf4-b302-5a32ff9f6fa9",
   "metadata": {},
   "outputs": [],
   "source": [
    "As you can see, for our DataSet, balancing only decreased accuracy. It can also be seen that the most accurate model was logistic regression, Ada Boost, Gradient Boosting and voting classifier. The ensemble of models showed better accuracy on the training data set and slightly worse on the test.\n\nLet's display the last classifier:"
   ]
  },
  {
   "cell_type": "code",
   "id": "fbc492ee-4a52-4078-9687-95e2751fb9cd",
   "metadata": {},
   "outputs": [],
   "source": [
    "clf_s"
   ]
  },
  {
   "cell_type": "markdown",
   "id": "33d4b410-ca1f-499d-8009-623d6ef3ce65",
   "metadata": {},
   "outputs": [],
   "source": [
    "## Conclusions"
   ]
  },
  {
   "cell_type": "markdown",
   "id": "ee289710-40ee-43b4-938a-b32403ac3f1d",
   "metadata": {},
   "outputs": [],
   "source": [
    "In this lab we studied how to normalize numerical and categorical data. It was shown how to build training and test data sets. Shows how to fit different classifiers, evaluate their accuracy and analyze errors.\nWe also studied how to join them together in an ensemble and create a model based on Pipeline.\nWe compared the accuracy of different classifiers and their ensemble and showed how they can be used in diabetes patients prediction.\n\nThe accuracy of the decision was about 60%."
   ]
  },
  {
   "cell_type": "markdown",
   "id": "bc334b6f-89f4-4ca2-99ba-715b824293e4",
   "metadata": {},
   "outputs": [],
   "source": [
    "## Author"
   ]
  },
  {
   "cell_type": "markdown",
   "id": "2767651f-01b6-4c5b-96c8-d6d432335c5e",
   "metadata": {},
   "outputs": [],
   "source": [
    "### Thank you for completing this lab!\n\n## Author\n\n<a href=\"https://author.skills.network/instructors/dmytro_yesyp\" target=\"_blank\">Dmytro Yesyp</a>\n\n### Other Contributors\n\n<a href=\"https://author.skills.network/instructors/yaroslav_vyklyuk_2\">Prof. Yaroslav Vyklyuk, DrSc, PhD</a>\n\n<a href=\"https://author.skills.network/instructors/nataliya_boyko\">Ass. Prof. Nataliya Boyko, PhD</a>\n\n## Change Log\n\n| Date (YYYY-MM-DD) | Version | Changed By | Change Description                                         |\n| ----------------- | ------- | ---------- | ---------------------------------------------------------- |\n| 2023-03-25       | 01     | Dmytro Yesyp     | Lab created|\n<hr>\n\n## <h3 align=\"center\"> © IBM Corporation 2023. All rights reserved. <h3/>\n"
   ]
  },
  {
   "cell_type": "code",
   "id": "b4d2dc9c-d9ff-42e9-a797-2dd99042a6a9",
   "metadata": {},
   "outputs": [],
   "source": [
    ""
   ]
  }
 ],
 "metadata": {
  "language_info": {
   "name": ""
  },
  "kernelspec": {
   "name": "",
   "display_name": ""
  }
 },
 "nbformat": 4,
 "nbformat_minor": 4
}