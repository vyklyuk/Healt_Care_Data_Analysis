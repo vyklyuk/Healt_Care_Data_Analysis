{
 "cells": [
  {
   "cell_type": "markdown",
   "id": "0a5176fa-a109-49d4-84a3-460b38751574",
   "metadata": {},
   "outputs": [],
   "source": [
    "<center>\n",
    "<img src=\"https://cf-courses-data.s3.us.cloud-object-storage.appdomain.cloud/assets/logos/SN_web_lightmode_vertical.png\" width=\"300\" alt=\"cognitiveclass.ai logo\"  />\n",
    "</center>"
   ]
  },
  {
   "cell_type": "markdown",
   "id": "3fa8bfb1-9e3c-4055-80d8-48524e64db25",
   "metadata": {},
   "outputs": [],
   "source": [
    "# Lab 6. Data Analysis with Python\n",
    "\n",
    "Estimated time needed: **30** minutes\n",
    "\n",
    "## Objectives\n",
    "\n",
    "After completing this lab you will be able to:\n",
    "\n",
    "*   Be confident about your data analysis skills"
   ]
  },
  {
   "cell_type": "markdown",
   "id": "9e19974f-dae9-4b35-ac21-51b225697f9d",
   "metadata": {},
   "outputs": [],
   "source": [
    "The data that we are going to use for this is a subset of an open source diabetes in US DataSet: https://www.kaggle.com/datasets/akshaydattatraykhare/diabetes-dataset.\n",
    "\n",
    "This dataset is from the National Institute of Diabetes and Digestive and Kidney Diseases. The objective of the dataset is to diagnostically predict whether a patient has diabetes based on certain diagnostic measurements included in the dataset. You will be asked to analyze the data and predict the diagnosis. At the end of the lab, you will be instructed on how you can share your notebook.\n"
   ]
  },
  {
   "cell_type": "markdown",
   "id": "312e6530-41d1-4b14-af99-820c52053e1c",
   "metadata": {},
   "outputs": [],
   "source": [
    "## Table of Contents"
   ]
  },
  {
   "cell_type": "markdown",
   "id": "a25fef8e-1963-4d3e-82e6-231d642be22a",
   "metadata": {},
   "outputs": [],
   "source": [
    "<div class=\"alert alert-block alert-info\" style=\"margin-top: 20px\">\n",
    "    <ul>\n",
    "        <li>Import libraries</li>\n",
    "        <li>Importing the Data</li>\n",
    "        <li>Question 1: Display the data types of each column using the attribute `dtypes`.</li>\n",
    "        <li>Question 2: change datatypes to the correct one</li>\n",
    "        <li>Question 3: build correlation heatmap</li>\n",
    "        <li>Question 4: separate dataset into two dataframes for the feature column and the target column</li>\n",
    "        <li>Question 5: separate DataSets for train and test DataSets for calculate accuracy of models.</li>\n",
    "        <li>Question 6: create transformer</li>\n",
    "        <li>Question 7: create logistic regression pipline</li>\n",
    "        <li>Question 8: fit logistic regression pipline</li>\n",
    "        <li>Question 9: get scores for train and test DataSets from pipline</li>\n",
    "        <li>Question 10: add cross-validation</li>\n",
    "        <li>Question 11: create ensemble of classifiers using</li>\n",
    "        <li>Question 12: show the train and test scores of an ensemble</li>\n",
    "        <li>Question 13: build decision tree</li>\n",
    "        <li>Question 14: show text representation of a built decision tree</li>\n",
    "        <li>Question 15: plot decision tree</li>\n",
    "        <li>Question 16: create a function that will predict patients diagnoses based on input data</li>\n",
    "    </ul>\n",
    "</div>"
   ]
  },
  {
   "cell_type": "markdown",
   "id": "9a853e55-fea1-418e-bcf5-3beae5a8b3e5",
   "metadata": {},
   "outputs": [],
   "source": [
    "You will need the following libraries:"
   ]
  },
  {
   "cell_type": "code",
   "id": "9937e919-85f5-4fb6-9905-707e44a6df50",
   "metadata": {},
   "outputs": [],
   "source": [
    "!pip install scikit-learn\n",
    "!pip install imblearn\n",
    "!pip install graphviz"
   ]
  },
  {
   "cell_type": "markdown",
   "id": "72a1572d-7549-415f-b7be-123e460c9844",
   "metadata": {},
   "outputs": [],
   "source": [
    "## Import libraries"
   ]
  },
  {
   "cell_type": "code",
   "id": "542d6230-cb11-4ff4-9522-aa5d8fd5d25f",
   "metadata": {},
   "outputs": [],
   "source": [
    "import pandas as pd\n",
    "import seaborn as sns\n",
    "import numpy as np\n",
    "import matplotlib.pyplot as plt\n",
    "import matplotlib as mpl\n",
    "from sklearn.compose import make_column_transformer\n",
    "from sklearn.preprocessing import StandardScaler\n",
    "from sklearn import set_config\n",
    "\n",
    "from imblearn.pipeline import make_pipeline\n",
    "from sklearn.linear_model import LogisticRegression\n",
    "from sklearn.model_selection import cross_val_score\n",
    "from sklearn.model_selection import cross_val_predict\n",
    "from sklearn.model_selection import train_test_split\n",
    "\n",
    "\n",
    "from sklearn.tree import DecisionTreeClassifier\n",
    "from sklearn.ensemble import RandomForestClassifier, AdaBoostClassifier\n",
    "from sklearn.naive_bayes import GaussianNB\n",
    "from sklearn.ensemble import VotingClassifier\n",
    "from sklearn.metrics import recall_score, precision_score\n",
    "import time\n",
    "\n",
    "from sklearn import tree\n",
    "import graphviz\n"
   ]
  },
  {
   "cell_type": "markdown",
   "id": "b1ff4572-ee9e-4b5c-9be9-e11d85882255",
   "metadata": {},
   "outputs": [],
   "source": [
    "This function will download the dataset into your browser \n"
   ]
  },
  {
   "cell_type": "markdown",
   "id": "17edeb6d-fd6a-4458-bc97-b52093b5a8ea",
   "metadata": {},
   "outputs": [],
   "source": [
    "## Importing the Data"
   ]
  },
  {
   "cell_type": "markdown",
   "id": "04b0bfb0-78f1-44c6-a820-677d7c4240b5",
   "metadata": {},
   "outputs": [],
   "source": [
    "you will need to download the dataset; if you are running locally, please comment out the following \n"
   ]
  },
  {
   "cell_type": "code",
   "id": "d6d3772e-48be-4766-8838-c567f2a151c4",
   "metadata": {},
   "outputs": [],
   "source": [
    "path = 'https://cf-courses-data.s3.us.cloud-object-storage.appdomain.cloud/IBMSkillsNetwork-GPXX08R2EN/NewDiabetes.csv'"
   ]
  },
  {
   "cell_type": "markdown",
   "id": "5c17e0cb-68ad-4a2e-82ba-873450518690",
   "metadata": {},
   "outputs": [],
   "source": [
    "Load the csv:\n"
   ]
  },
  {
   "cell_type": "code",
   "id": "1a142a4d-ca49-4dc6-b7cf-4b6de40c7bb9",
   "metadata": {},
   "outputs": [],
   "source": [
    "df= pd.read_csv(path)"
   ]
  },
  {
   "cell_type": "markdown",
   "id": "feb27e89-9c85-4a54-b49a-59a1e0c5d3c8",
   "metadata": {},
   "outputs": [],
   "source": [
    "We use the method  <code>head()</code>  to display the first 5 columns of the dataframe:\n"
   ]
  },
  {
   "cell_type": "code",
   "id": "33c24114-1a3a-4c94-8b67-472e4fe18e52",
   "metadata": {},
   "outputs": [],
   "source": [
    "df.head()"
   ]
  },
  {
   "cell_type": "markdown",
   "id": "e6e50590-4870-44c4-a0b9-3e974fc308e6",
   "metadata": {},
   "outputs": [],
   "source": [
    "<details>\n",
    "<summary><b>Click to see attribute information</b></summary>\n",
    "Input features (column names):\n",
    "\n",
    "1. `Pregnancies` - express the Number of pregnancies . (int64)\n",
    "2. `Glucose` - express the Glucose level in blood. (int64)\n",
    "3. `BloodPressure` - express the Blood pressure measurement. (int64)\n",
    "4. `SkinThickness` - xpress the thickness of the skin. (int64)\n",
    "5. `Insulin` - express the Insulin level in blood. (int64)\n",
    "6. `BMI` - express the Body mass index. (float64)\n",
    "7. `DiabetesPedigreeFunction` - express the Diabetes percentage. (float64)\n",
    "8. `Age` - express the age. (int64)\n",
    "9. `Outcome`  [Target Column]  - express the final result 1 is Yes and 0 is No. (boolean)\n",
    "\n",
    "</details>"
   ]
  },
  {
   "cell_type": "code",
   "id": "8d6c2e62-52e9-467d-966e-334fb5e58880",
   "metadata": {},
   "outputs": [],
   "source": [
    "df.info()"
   ]
  },
  {
   "cell_type": "markdown",
   "id": "f6c97060-5f30-4e09-bdba-3674a273803c",
   "metadata": {},
   "outputs": [],
   "source": [
    "<b>Question 1</b>:  display the data types of each column using the attribute `dtypes`."
   ]
  },
  {
   "cell_type": "code",
   "id": "94782355-5d96-4934-89b4-188e631839ce",
   "metadata": {},
   "outputs": [],
   "source": [
    "df.dtypes"
   ]
  },
  {
   "cell_type": "markdown",
   "id": "d64868b4-79bc-4c8e-94ee-32faef30510f",
   "metadata": {},
   "outputs": [],
   "source": [
    "<b>Question 2 </b>:  change datatypes to the correct one."
   ]
  },
  {
   "cell_type": "code",
   "id": "ae3f1eeb-cdd5-4cd1-8bfc-c1ec6bbd63e8",
   "metadata": {},
   "outputs": [],
   "source": [
    "df['Outcome'] = df['Outcome'].astype('bool')\n",
    "df.dtypes"
   ]
  },
  {
   "cell_type": "markdown",
   "id": "8444a47d-3ab3-4541-9c80-41fd2c0a7414",
   "metadata": {},
   "outputs": [],
   "source": [
    "<b>Question 3 </b>:  build correlation heatmap."
   ]
  },
  {
   "cell_type": "code",
   "id": "8d95a631-ae46-4380-a16a-3d8ed0feb6b3",
   "metadata": {},
   "outputs": [],
   "source": [
    "corrmat = df.corr()\n",
    "top_corr_features = corrmat.index\n",
    "plt.figure(figsize=(8,7))\n",
    "g=sns.heatmap(df.corr(),annot=True,cmap=\"RdYlGn\")"
   ]
  },
  {
   "cell_type": "markdown",
   "id": "2fec2d0b-f2f9-4d66-acf7-2af2ec0eebe5",
   "metadata": {},
   "outputs": [],
   "source": [
    "<b>Question 4 </b>: separate dataset into two dataframes for the feature column and the target column."
   ]
  },
  {
   "cell_type": "code",
   "id": "09e1e15d-c2df-43de-8340-84aa2144bb73",
   "metadata": {},
   "outputs": [],
   "source": [
    "x = df.drop(columns = ['Outcome'])\ny = df['Outcome']"
   ]
  },
  {
   "cell_type": "markdown",
   "id": "73a3a54e-6849-4589-9ed4-6e249225285a",
   "metadata": {},
   "outputs": [],
   "source": [
    "<b>Question 5 </b>: separate DataSets for train and test DataSets for calculate accuracy of models."
   ]
  },
  {
   "cell_type": "code",
   "id": "ccce0892-4b0a-4ea4-a3f8-e2498f29d04d",
   "metadata": {},
   "outputs": [],
   "source": [
    "x_train,x_test,y_train,y_test = train_test_split(x,y,test_size = 0.33, shuffle=False)"
   ]
  },
  {
   "cell_type": "markdown",
   "id": "15a8b207-68da-4356-8a81-8c270e55287d",
   "metadata": {},
   "outputs": [],
   "source": [
    "<b>Question 6</b>: create transformer using **[make_column_transformer](https://scikit-learn.org/stable/modules/generated/sklearn.compose.make_column_transformer.html)**."
   ]
  },
  {
   "cell_type": "code",
   "id": "097bfea1-797c-4ab4-8b31-5c0ab1b0f3df",
   "metadata": {},
   "outputs": [],
   "source": [
    "trans = make_column_transformer((StandardScaler(),x.columns))\nset_config(display = 'diagram')\ntrans"
   ]
  },
  {
   "cell_type": "markdown",
   "id": "27d72e64-accc-4d5a-936e-80b71ccd7f67",
   "metadata": {},
   "outputs": [],
   "source": [
    "<b>Question 7</b>: create logistic regression pipline."
   ]
  },
  {
   "cell_type": "code",
   "id": "1956002a-0bce-4476-a701-a72347b9051f",
   "metadata": {},
   "outputs": [],
   "source": [
    "lr = LogisticRegression()\npipe_lr = make_pipeline(trans,lr)\n"
   ]
  },
  {
   "cell_type": "markdown",
   "id": "faeeeec3-d399-43ca-9716-4874a24409ba",
   "metadata": {},
   "outputs": [],
   "source": [
    "<b>Question 8</b>: fit logistic regression pipline."
   ]
  },
  {
   "cell_type": "code",
   "id": "7227b422-7009-47cc-9733-9ce69370eb63",
   "metadata": {},
   "outputs": [],
   "source": [
    "pipe_lr.fit(x_train,y_train)"
   ]
  },
  {
   "cell_type": "markdown",
   "id": "830fa25d-12c9-49c0-8888-3c34d3795f1d",
   "metadata": {},
   "outputs": [],
   "source": [
    "<b>Question 9</b>: get scores for train and test DataSets from pipline."
   ]
  },
  {
   "cell_type": "code",
   "id": "38882ca2-b4d7-493d-9cb8-959188555cf7",
   "metadata": {},
   "outputs": [],
   "source": [
    "scores_train = pipe_lr.score(x_train, y_train)\nscores_test = pipe_lr.score(x_test, y_test)\nprint('Training DataSet accuracy: {: .1%}'.format(scores_train), 'Test DataSet accuracy: {: .1%}'.format(scores_test))"
   ]
  },
  {
   "cell_type": "markdown",
   "id": "962beb20-6d9b-4ca6-8129-97255bdcfc0e",
   "metadata": {},
   "outputs": [],
   "source": [
    "<b>Question 10</b>: add cross-validation."
   ]
  },
  {
   "cell_type": "code",
   "id": "70af4b37-a0b0-4797-8eb0-a21faa73e809",
   "metadata": {},
   "outputs": [],
   "source": [
    "Rcross = cross_val_score(pipe_lr,x ,y, cv = 4)\nprint(Rcross)\nprint(\"The mean of the folds are\", Rcross.mean(), \"and the standart deviation is\", Rcross.std())\n\nyhat = cross_val_predict(pipe_lr,x,y,cv = 4)\nyhat[0:5]"
   ]
  },
  {
   "cell_type": "markdown",
   "id": "eb1b4ce5-a91b-46c3-a072-255490173a49",
   "metadata": {},
   "outputs": [],
   "source": [
    "<b>Question 11</b>: create ensemble of classifiers using."
   ]
  },
  {
   "cell_type": "code",
   "id": "2a73525b-1b82-4f0f-a16a-997a727d31ce",
   "metadata": {},
   "outputs": [],
   "source": [
    "names = [\"Logistic Regression\",\n         \"Decision Tree\", \"Random Forest\",\"Gaussian Naive Bayes\"]\nclassifiers = [\n    LogisticRegression(),\n    DecisionTreeClassifier(max_depth=8),\n    RandomForestClassifier(n_estimators=10, max_features=1),\n    GaussianNB(),\n]\n\nscores_train = []\nscores_test = []\nscores_train_s = []\nscores_test_s = []"
   ]
  },
  {
   "cell_type": "code",
   "id": "540401c5-72b3-4f2c-84d8-7aed7f524cfa",
   "metadata": {},
   "outputs": [],
   "source": [
    "est = [(str(est), est) for est in classifiers]\neclf = [VotingClassifier(\n    estimators=est,\n    voting='hard')]\nnames += [\"Voting Classifier\"]\nclassifiers += eclf\nfor name, classif in zip(names, classifiers):\n    start_time = time.time()\n    print(name,'fitting.....',end = '')\n    clf = make_pipeline(trans, classif)\n    clf.fit(x_train,y_train)\n    score_train = recall_score(y_train, clf.predict(x_train), average='micro')\n    score_test = recall_score(y_test, clf.predict(x_test), average='micro')\n    scores_train.append(score_train)\n    scores_test.append(score_test)\n\n    end_time = time.time()\n    print(\" [\",round(end_time - start_time,2),\"s]\")"
   ]
  },
  {
   "cell_type": "markdown",
   "id": "aa933625-93f4-4830-99d5-df1d15e2d76c",
   "metadata": {},
   "outputs": [],
   "source": [
    "<b>Question 12</b>: show the train and test scores of an ensemble."
   ]
  },
  {
   "cell_type": "code",
   "id": "8d1e3e22-eb63-4393-bb5b-119adde72b5d",
   "metadata": {},
   "outputs": [],
   "source": [
    "res = pd.DataFrame(index = names)\nres['Train'] = np.array(scores_train)\nres['Test'] = np.array(scores_test)\nres.index.name = \"Classifier accuracy\"\npd.options.display.float_format = '{:,.2f}'.format\nres"
   ]
  },
  {
   "cell_type": "code",
   "id": "d0b5bae2-ed80-402c-9ae0-ad2d416009bb",
   "metadata": {},
   "outputs": [],
   "source": [
    "fig, ax = plt.subplots(figsize=(10,6))\nax.bar(names, scores_test)\n\nax.set_title('Calassifiers Accuracy')\nax.set_xlabel('Classifier')\nax.set_ylabel('Accuracy')\n\nplt.xticks(rotation=45)\nplt.show()"
   ]
  },
  {
   "cell_type": "code",
   "id": "8542fbf4-2526-4640-b3fe-f48505248aa6",
   "metadata": {},
   "outputs": [],
   "source": [
    "clf"
   ]
  },
  {
   "cell_type": "markdown",
   "id": "7a739016-856c-4050-8848-e47623ea4066",
   "metadata": {},
   "outputs": [],
   "source": [
    "<b>Question 13</b>: build decision tree."
   ]
  },
  {
   "cell_type": "code",
   "id": "0075d627-69bf-4587-b0d0-cf16630bb5d2",
   "metadata": {},
   "outputs": [],
   "source": [
    "model = DecisionTreeClassifier()\n\nDTC = make_pipeline(trans, model)\n\nDTC.fit(x_train, y_train)\n\nscores_test = DTC.score(x_test, y_test)\n\n# accuracy = accuracy_score(y_enc, yhat)\nprint('Accuracy: %.2f' % (scores_test * 100))"
   ]
  },
  {
   "cell_type": "markdown",
   "id": "9d088b05-65bc-4022-89fe-17eb816879ba",
   "metadata": {},
   "outputs": [],
   "source": [
    "<b>Question 14</b>: show text representation of a built decision tree."
   ]
  },
  {
   "cell_type": "code",
   "id": "d0bb5b48-d6f6-416b-809d-d9c919ffa69c",
   "metadata": {},
   "outputs": [],
   "source": [
    "text_representation = tree.export_text(model)\nprint(text_representation)"
   ]
  },
  {
   "cell_type": "code",
   "id": "447104c3-c646-44c9-9644-5d35b4f2565e",
   "metadata": {},
   "outputs": [],
   "source": [
    "with open(\"decistion_tree.log\", \"w\") as fout:\n    fout.write(text_representation)"
   ]
  },
  {
   "cell_type": "markdown",
   "id": "8da5057d-c57d-4f70-a664-200172d3236a",
   "metadata": {},
   "outputs": [],
   "source": [
    "<b>Question 15</b>: plot decision tree using **[tree.plot_tree](https://scikit-learn.org/stable/modules/generated/sklearn.tree.plot_tree.html)**"
   ]
  },
  {
   "cell_type": "code",
   "id": "520086eb-f9b4-4031-a87f-f7b410ca2d1b",
   "metadata": {},
   "outputs": [],
   "source": [
    "fig = plt.figure(figsize=(100,100))\n_ = tree.plot_tree(model,\n                   max_depth = 4,\n                   feature_names = x.columns,\n                   class_names = y.unique().astype(str),\n                   filled = True)"
   ]
  },
  {
   "cell_type": "code",
   "id": "3d2ec705-0e85-4fb3-bbdc-788f56d03415",
   "metadata": {},
   "outputs": [],
   "source": [
    "dot_data = tree.export_graphviz(model,\n                                max_depth = 7,\n                                feature_names = x.columns,\n                                class_names = y.unique().astype(str),\n                                filled=True)"
   ]
  },
  {
   "cell_type": "code",
   "id": "46c90f16-932c-4919-9eeb-c83816774fec",
   "metadata": {},
   "outputs": [],
   "source": [
    "graph = graphviz.Source(dot_data, format=\"png\")\n"
   ]
  },
  {
   "cell_type": "code",
   "id": "c60acb63-7bfe-4903-bb68-7dba41ddec7b",
   "metadata": {},
   "outputs": [],
   "source": [
    "graph.render(\"decision_tree_graphivz\")"
   ]
  },
  {
   "cell_type": "markdown",
   "id": "bf774ddc-6c31-46c4-b1d0-9c04318d5d43",
   "metadata": {},
   "outputs": [],
   "source": [
    "<b>Question 16</b>: create a function that will predict patients diagnoses based on input data."
   ]
  },
  {
   "cell_type": "code",
   "id": "6bfda594-dc44-4c66-83de-f1021ce851d8",
   "metadata": {},
   "outputs": [],
   "source": [
    "def fit(file):\n    df2 = pd.read_csv(file)\n\n    X = df2.drop(columns = ['Outcome'])\n    Y = df2['Outcome']\n\n    x_tr,x_te,y_tr,y_te = train_test_split(X,Y,test_size = 0.33, shuffle=False)\n    transformer = make_column_transformer((StandardScaler(),x.columns))\n\n    names = [\"Logistic Regression\",\n             \"Decision Tree\", \"Random Forest\",\"Gaussian Naive Bayes\"]\n    \n    classifiers = [\n        LogisticRegression(),\n        DecisionTreeClassifier(max_depth=8),\n        RandomForestClassifier(n_estimators=10, max_features=1),\n        GaussianNB(),\n    ]\n    \n    est = list(zip(names, classifiers))\n    \n    Vote_clasif = VotingClassifier(\n        estimators=est,\n        voting='hard')\n\n    pipel = make_pipeline(transformer, Vote_clasif)\n\n    pipel.fit(x_tr, y_tr)\n\n    score = pipel.score(x_te,y_te)\n    print(f\"Accuracy : {round(score,3)}\")\n    \n    return pipel\n    # score(y_train, clf.predict(x_train), average='micro')\n    # return clf"
   ]
  },
  {
   "cell_type": "code",
   "id": "bb954740-ced2-4e91-bf27-ad5044ec103e",
   "metadata": {},
   "outputs": [],
   "source": [
    "def pred(my_clf, input_df):\n\n    predictions = pd.DataFrame(my_clf.predict(input_df))\n    \n    print(predictions[0].map({1: \"Yes\", 0: \"No\"}))\n"
   ]
  },
  {
   "cell_type": "code",
   "id": "8ab508c4-1890-4119-b9ef-b2fb8d14ce6f",
   "metadata": {},
   "outputs": [],
   "source": [
    "# 6,148,72,35,0,33.6,0.627,50,1\n# 1,85,66,29,0,26.6,0.351,31,0\n# 8,183,64,0,0,23.3,0.672,32,1\n# 1,89,66,23,94,28.1,0.167,21,0\n\ninput_df = pd.DataFrame(data=[[6,148,72,35,0,33.6,0.627,50],\n                              [1,85,66,29,0,26.6,0.351,31],\n                              [8,183,64,0,0,23.3,0.672,32],\n                              [1,89,66,23,94,28.1,0.167,21]], columns=['Pregnancies', 'Glucose', 'BloodPressure', 'SkinThickness', 'Insulin', 'BMI', 'DiabetesPedigreeFunction', 'Age'])\nmy_clf = fit(\"https://cf-courses-data.s3.us.cloud-object-storage.appdomain.cloud/IBMSkillsNetwork-GPXX08R2EN/NewDiabetes.csv\")\npred(my_clf, input_df)"
   ]
  },
  {
   "cell_type": "code",
   "id": "4a112e45-4648-4a86-adc7-64325fc6303a",
   "metadata": {},
   "outputs": [],
   "source": [
    "clf"
   ]
  },
  {
   "cell_type": "markdown",
   "id": "8d24b6a5-b7bf-464d-978d-0137c01dd7c8",
   "metadata": {},
   "outputs": [],
   "source": [
    "### Thank you for completing this lab!\n\n## Author\n\n<a href=\"https://author.skills.network/instructors/dmytro_yesyp\" target=\"_blank\">Dmytro Yesyp</a>\n\n### Other Contributors\n\n<a href=\"https://author.skills.network/instructors/yaroslav_vyklyuk_2\">Prof. Yaroslav Vyklyuk, DrSc, PhD</a>\n\n<a href=\"https://author.skills.network/instructors/nataliya_boyko\">Ass. Prof. Nataliya Boyko, PhD</a>\n\n## Change Log\n\n| Date (YYYY-MM-DD) | Version | Changed By | Change Description                                         |\n| ----------------- | ------- | ---------- | ---------------------------------------------------------- |\n| 2023-04-01       | 01     | Dmytro Yesyp     | Lab created|\n<hr>\n\n## <h3 align=\"center\"> © IBM Corporation 2023. All rights reserved. <h3/>\n\n"
   ]
  },
  {
   "cell_type": "code",
   "id": "bc2718b2-968c-41d5-b731-6da5bb6bb24c",
   "metadata": {},
   "outputs": [],
   "source": [
    ""
   ]
  }
 ],
 "metadata": {
  "language_info": {
   "name": ""
  },
  "kernelspec": {
   "name": "",
   "display_name": ""
  }
 },
 "nbformat": 4,
 "nbformat_minor": 4
}