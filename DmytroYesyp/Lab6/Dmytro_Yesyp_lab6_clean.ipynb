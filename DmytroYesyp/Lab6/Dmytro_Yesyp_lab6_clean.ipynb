{
  "cells": [
    {
      "cell_type": "markdown",
      "id": "ea1987ad-570f-4ba8-8b1f-8542612b90af",
      "metadata": {},
      "outputs": [],
      "source": [
        "<center>\n<img src=\"https://cf-courses-data.s3.us.cloud-object-storage.appdomain.cloud/assets/logos/SN_web_lightmode_vertical.png\" width=\"300\" alt=\"cognitiveclass.ai logo\"  />\n</center>"
      ]
    },
    {
      "cell_type": "markdown",
      "id": "ed5de1fd-b20a-4b3e-a313-179c6ccbbf98",
      "metadata": {},
      "outputs": [],
      "source": [
        "# Lab 6. Data Analysis with Python\n\nEstimated time needed: **30** minutes\n\n## Objectives\n\nAfter completing this lab you will be able to:\n\n*   Be confident about your data analysis skills"
      ]
    },
    {
      "cell_type": "markdown",
      "id": "15d73593-1b9a-4a02-983b-e8fd57c1878e",
      "metadata": {},
      "outputs": [],
      "source": [
        "The data that we are going to use for this is a subset of an open source diabetes in US DataSet: https://www.kaggle.com/datasets/akshaydattatraykhare/diabetes-dataset.\n\nThis dataset is from the National Institute of Diabetes and Digestive and Kidney Diseases. The objective of the dataset is to diagnostically predict whether a patient has diabetes based on certain diagnostic measurements included in the dataset. You will be asked to analyze the data and predict the diagnosis. At the end of the lab, you will be instructed on how you can share your notebook.\n"
      ]
    },
    {
      "cell_type": "markdown",
      "id": "9eb75841-86b5-41dc-9f08-5e403750a2a7",
      "metadata": {},
      "outputs": [],
      "source": [
        "## Table of Contents"
      ]
    },
    {
      "cell_type": "markdown",
      "id": "fc9a5063-925c-403d-b101-35badbcac8bf",
      "metadata": {},
      "outputs": [],
      "source": [
        "<div class=\"alert alert-block alert-info\" style=\"margin-top: 20px\">\n    <ul>\n        <li>Import libraries</li>\n        <li>Importing the Data</li>\n        <li>Question 1: Display the data types of each column using the attribute `dtypes`.</li>\n        <li>Question 2: change datatypes to the correct one</li>\n        <li>Question 3: build correlation heatmap</li>\n        <li>Question 4: separate dataset into two dataframes for the feature column and the target column</li>\n        <li>Question 5: separate DataSets for train and test DataSets for calculate accuracy of models.</li>\n        <li>Question 6: create transformer</li>\n        <li>Question 7: create logistic regression pipline</li>\n        <li>Question 8: fit logistic regression pipline</li>\n        <li>Question 9: get scores for train and test DataSets from pipline</li>\n        <li>Question 10: add cross-validation</li>\n        <li>Question 11: create ensemble of classifiers using</li>\n        <li>Question 12: show the train and test scores of an ensemble</li>\n        <li>Question 13: build decision tree</li>\n        <li>Question 14: show text representation of a built decision tree</li>\n        <li>Question 15: plot decision tree</li>\n        <li>Question 16: create a function that will predict patients diagnoses based on input data</li>\n    </ul>\n</div>"
      ]
    },
    {
      "cell_type": "markdown",
      "id": "7e78b9e6-b0c6-4731-94d0-6c7385e3744b",
      "metadata": {},
      "outputs": [],
      "source": [
        "You will need the following libraries:"
      ]
    },
    {
      "cell_type": "code",
      "id": "1b571003-ed0b-479d-ba79-fd561bbbbb72",
      "metadata": {},
      "outputs": [],
      "source": [
        "!pip install scikit-learn\n!pip install imblearn\n!pip install graphviz"
      ]
    },
    {
      "cell_type": "markdown",
      "id": "cc75e3d2-9dd2-4b77-afba-b171ffa73953",
      "metadata": {},
      "outputs": [],
      "source": [
        "## Import libraries"
      ]
    },
    {
      "cell_type": "code",
      "id": "07610b48-ece0-44c9-95c3-3ad25ceb7643",
      "metadata": {},
      "outputs": [],
      "source": [
        "import pandas as pd\nimport seaborn as sns\nimport numpy as np\nimport matplotlib.pyplot as plt\nimport matplotlib as mpl\nfrom sklearn.compose import make_column_transformer\nfrom sklearn.preprocessing import StandardScaler\nfrom sklearn import set_config\n\nfrom imblearn.pipeline import make_pipeline\nfrom sklearn.linear_model import LogisticRegression\nfrom sklearn.model_selection import cross_val_score\nfrom sklearn.model_selection import cross_val_predict\nfrom sklearn.model_selection import train_test_split\n\n\nfrom sklearn.tree import DecisionTreeClassifier\nfrom sklearn.ensemble import RandomForestClassifier, AdaBoostClassifier\nfrom sklearn.naive_bayes import GaussianNB\nfrom sklearn.ensemble import VotingClassifier\nfrom sklearn.metrics import recall_score, precision_score\nimport time\n\nfrom sklearn import tree\nimport graphviz\n"
      ]
    },
    {
      "cell_type": "markdown",
      "id": "47a997b1-2ed0-47c7-8f4b-0d1350ad86b5",
      "metadata": {},
      "outputs": [],
      "source": [
        "This function will download the dataset into your browser \n"
      ]
    },
    {
      "cell_type": "markdown",
      "id": "0770a2dd-d11b-4d1f-a4fa-ae5b6e9a88aa",
      "metadata": {},
      "outputs": [],
      "source": [
        "## Importing the Data"
      ]
    },
    {
      "cell_type": "markdown",
      "id": "b3900af8-256f-4d32-9094-3cae1ccb6925",
      "metadata": {},
      "outputs": [],
      "source": [
        "you will need to download the dataset; if you are running locally, please comment out the following \n"
      ]
    },
    {
      "cell_type": "code",
      "id": "703898e4-3d75-4c97-8eef-f47ed42e562d",
      "metadata": {},
      "outputs": [],
      "source": [
        "path = 'https://cf-courses-data.s3.us.cloud-object-storage.appdomain.cloud/IBMSkillsNetwork-GPXX08R2EN/NewDiabetes.csv'"
      ]
    },
    {
      "cell_type": "markdown",
      "id": "3e4deae4-ea0d-4514-b882-b6575eca6a5a",
      "metadata": {},
      "outputs": [],
      "source": [
        "Load the csv:\n"
      ]
    },
    {
      "cell_type": "code",
      "id": "9548ddc5-2b90-42f1-9578-619087f8f795",
      "metadata": {},
      "outputs": [],
      "source": [
        "df= pd.read_csv(path)"
      ]
    },
    {
      "cell_type": "markdown",
      "id": "48d3db93-ab17-41a1-b33b-d6394763132a",
      "metadata": {},
      "outputs": [],
      "source": [
        "We use the method  <code>head()</code>  to display the first 5 columns of the dataframe:\n"
      ]
    },
    {
      "cell_type": "code",
      "id": "a3ba5c1d-9655-46d3-a6dc-296c9e6bcb7f",
      "metadata": {},
      "outputs": [],
      "source": [
        "df.head()"
      ]
    },
    {
      "cell_type": "markdown",
      "id": "0fa78503-ae2d-424a-b4ea-1f21b8c176e1",
      "metadata": {},
      "outputs": [],
      "source": [
        "<details>\n<summary><b>Click to see attribute information</b></summary>\nInput features (column names):\n\n1. `Pregnancies` - express the Number of pregnancies . (int64)\n2. `Glucose` - express the Glucose level in blood. (int64)\n3. `BloodPressure` - express the Blood pressure measurement. (int64)\n4. `SkinThickness` - xpress the thickness of the skin. (int64)\n5. `Insulin` - express the Insulin level in blood. (int64)\n6. `BMI` - express the Body mass index. (float64)\n7. `DiabetesPedigreeFunction` - express the Diabetes percentage. (float64)\n8. `Age` - express the age. (int64)\n9. `Outcome`  [Target Column]  - express the final result 1 is Yes and 0 is No. (boolean)\n\n</details>"
      ]
    },
    {
      "cell_type": "code",
      "id": "2df5f945-7cc8-4136-b2bf-cb189b80e16d",
      "metadata": {},
      "outputs": [],
      "source": [
        "df.info()"
      ]
    },
    {
      "cell_type": "markdown",
      "id": "0aecd8d3-161f-443c-8228-0b270d707c07",
      "metadata": {},
      "outputs": [],
      "source": [
        "<b>Question 1</b>:  display the data types of each column using the attribute `dtypes`."
      ]
    },
    {
      "cell_type": "code",
      "id": "356a4026-1f9f-4722-ac7e-b4646659f261",
      "metadata": {},
      "outputs": [],
      "source": [
        "# Write your code below and press Shift+Enter to execute"
      ]
    },
    {
      "cell_type": "markdown",
      "id": "cc574608-7b2e-479e-9dc7-f60553ce546f",
      "metadata": {},
      "outputs": [],
      "source": [
        "<b>Question 2 </b>:  change datatypes to the correct one."
      ]
    },
    {
      "cell_type": "code",
      "id": "541c818f-3b13-450f-b43f-503e45cf7416",
      "metadata": {},
      "outputs": [],
      "source": [
        "# Write your code below and press Shift+Enter to execute"
      ]
    },
    {
      "cell_type": "markdown",
      "id": "aaf6bc84-57c1-4524-bcd2-249f5ecc078f",
      "metadata": {},
      "outputs": [],
      "source": [
        "<b>Question 3 </b>:  build correlation heatmap."
      ]
    },
    {
      "cell_type": "code",
      "id": "fb060bb9-6ca0-4ce4-86f1-8ab09aca12ad",
      "metadata": {},
      "outputs": [],
      "source": [
        "# Write your code below and press Shift+Enter to execute"
      ]
    },
    {
      "cell_type": "markdown",
      "id": "fcb80ece-36f2-48e2-af72-c290ed086b96",
      "metadata": {},
      "outputs": [],
      "source": [
        "<b>Question 4 </b>: separate dataset into two dataframes for the feature column and the target column."
      ]
    },
    {
      "cell_type": "code",
      "id": "81033d71-02ef-48f8-91f8-cecdcc4942ce",
      "metadata": {},
      "outputs": [],
      "source": [
        "# Write your code below and press Shift+Enter to execute"
      ]
    },
    {
      "cell_type": "markdown",
      "id": "86e46d40-29f0-486c-a3c5-e5796c1c2433",
      "metadata": {},
      "outputs": [],
      "source": [
        "<b>Question 5 </b>: separate DataSets for train and test DataSets for calculate accuracy of models."
      ]
    },
    {
      "cell_type": "code",
      "id": "220913b2-3807-4ee2-83d3-85f5edabe448",
      "metadata": {},
      "outputs": [],
      "source": [
        "# Write your code below and press Shift+Enter to execute"
      ]
    },
    {
      "cell_type": "markdown",
      "id": "5bd33eb4-108e-4039-8cf7-f5bd75c24db1",
      "metadata": {},
      "outputs": [],
      "source": [
        "<b>Question 6</b>: create transformer using **[make_column_transformer](https://scikit-learn.org/stable/modules/generated/sklearn.compose.make_column_transformer.html)**."
      ]
    },
    {
      "cell_type": "code",
      "id": "fb06826d-ebe6-4cf8-8367-f41600ad0348",
      "metadata": {},
      "outputs": [],
      "source": [
        "# Write your code below and press Shift+Enter to execute"
      ]
    },
    {
      "cell_type": "markdown",
      "id": "f2ff1356-ee65-449a-816c-2207af6bbbba",
      "metadata": {},
      "outputs": [],
      "source": [
        "<b>Question 7</b>: create logistic regression pipline."
      ]
    },
    {
      "cell_type": "code",
      "id": "e2699991-ea6d-4f41-bd3b-57cd244a842a",
      "metadata": {},
      "outputs": [],
      "source": [
        "# Write your code below and press Shift+Enter to execute"
      ]
    },
    {
      "cell_type": "markdown",
      "id": "e5417b35-0282-40c4-8d04-a03c51c52a48",
      "metadata": {},
      "outputs": [],
      "source": [
        "<b>Question 8</b>: fit logistic regression pipline."
      ]
    },
    {
      "cell_type": "code",
      "id": "f9558e5c-76ef-4689-9038-b959f15389bc",
      "metadata": {},
      "outputs": [],
      "source": [
        "# Write your code below and press Shift+Enter to execute"
      ]
    },
    {
      "cell_type": "markdown",
      "id": "b871bc22-5040-4d02-a761-d22ab792182e",
      "metadata": {},
      "outputs": [],
      "source": [
        "<b>Question 9</b>: get scores for train and test DataSets from pipline."
      ]
    },
    {
      "cell_type": "code",
      "id": "e7e5cf0e-f242-4f80-9fb8-359cae35d051",
      "metadata": {},
      "outputs": [],
      "source": [
        "# Write your code below and press Shift+Enter to execute"
      ]
    },
    {
      "cell_type": "markdown",
      "id": "6b8aa457-fc7d-418d-bc6c-54b02e4a5301",
      "metadata": {},
      "outputs": [],
      "source": [
        "<b>Question 10</b>: add cross-validation."
      ]
    },
    {
      "cell_type": "code",
      "id": "5a692e17-4cbc-453f-8944-9e9cc7646ba2",
      "metadata": {},
      "outputs": [],
      "source": [
        "# Write your code below and press Shift+Enter to execute"
      ]
    },
    {
      "cell_type": "markdown",
      "id": "df4a175d-2fd6-4181-b5cc-7741c385f1d9",
      "metadata": {},
      "outputs": [],
      "source": [
        "<b>Question 11</b>: create ensemble of classifiers."
      ]
    },
    {
      "cell_type": "code",
      "id": "db5733fa-1061-43c9-a974-b99d0a2a91b1",
      "metadata": {},
      "outputs": [],
      "source": [
        "# Write your code below and press Shift+Enter to execute"
      ]
    },
    {
      "cell_type": "markdown",
      "id": "806d64e4-b8f3-44a1-b9e9-f56dcf7ce449",
      "metadata": {},
      "outputs": [],
      "source": [
        "<b>Question 12</b>: show the train and test scores of an ensemble."
      ]
    },
    {
      "cell_type": "code",
      "id": "7b3af973-e245-410c-899e-1238be438d8a",
      "metadata": {},
      "outputs": [],
      "source": [
        "# Write your code below and press Shift+Enter to execute"
      ]
    },
    {
      "cell_type": "markdown",
      "id": "14b75a98-fcb0-4bac-90ac-9a1d10b6a196",
      "metadata": {},
      "outputs": [],
      "source": [
        "<b>Question 13</b>: build decision tree."
      ]
    },
    {
      "cell_type": "code",
      "id": "a33de679-ea1a-444f-a18e-d3fdd5e780d2",
      "metadata": {},
      "outputs": [],
      "source": [
        "# Write your code below and press Shift+Enter to execute"
      ]
    },
    {
      "cell_type": "markdown",
      "id": "62cb5a1d-03fb-4804-8c00-f280a7f81bee",
      "metadata": {},
      "outputs": [],
      "source": [
        "<b>Question 14</b>: show text representation of a built decision tree."
      ]
    },
    {
      "cell_type": "code",
      "id": "854d74e6-aaab-4e59-83ea-eee8a492988e",
      "metadata": {},
      "outputs": [],
      "source": [
        "# Write your code below and press Shift+Enter to execute"
      ]
    },
    {
      "cell_type": "markdown",
      "id": "40dff214-3ea4-47ef-8986-7e7b9e1e596a",
      "metadata": {},
      "outputs": [],
      "source": [
        "<b>Question 15</b>: plot decision tree using **[tree.plot_tree](https://scikit-learn.org/stable/modules/generated/sklearn.tree.plot_tree.html)**"
      ]
    },
    {
      "cell_type": "code",
      "id": "d3077d37-2e53-4d28-8265-4660f98398b9",
      "metadata": {},
      "outputs": [],
      "source": [
        "# Write your code below and press Shift+Enter to execute"
      ]
    },
    {
      "cell_type": "markdown",
      "id": "9a3c81f3-8cfb-4b77-b625-005a67e95f10",
      "metadata": {},
      "outputs": [],
      "source": [
        "<b>Question 16</b>: create a function that will predict patients diagnoses based on input data."
      ]
    },
    {
      "cell_type": "code",
      "id": "85b50158-f71d-45e2-863c-06f52b3a9754",
      "metadata": {},
      "outputs": [],
      "source": [
        "# Write your code below and press Shift+Enter to execute"
      ]
    },
    {
      "cell_type": "markdown",
      "id": "ee4aa655-64cf-4c78-9981-2b061f04f13e",
      "metadata": {},
      "outputs": [],
      "source": [
        "### Thank you for completing this lab!\n\n## Author\n\n<a href=\"https://author.skills.network/instructors/dmytro_yesyp\" target=\"_blank\">Dmytro Yesyp</a>\n\n### Other Contributors\n\n<a href=\"https://author.skills.network/instructors/yaroslav_vyklyuk_2\">Prof. Yaroslav Vyklyuk, DrSc, PhD</a>\n\n<a href=\"https://author.skills.network/instructors/nataliya_boyko\">Ass. Prof. Nataliya Boyko, PhD</a>\n\n## Change Log\n\n| Date (YYYY-MM-DD) | Version | Changed By | Change Description                                         |\n| ----------------- | ------- | ---------- | ---------------------------------------------------------- |\n| 2023-04-01       | 01     | Dmytro Yesyp     | Lab created|\n<hr>\n\n## <h3 align=\"center\"> © IBM Corporation 2023. All rights reserved. <h3/>\n\n"
      ]
    },
    {
      "cell_type": "code",
      "id": "2e504373-f2a4-45fd-8cb4-5f31985f2641",
      "metadata": {},
      "outputs": [],
      "source": [
        ""
      ]
    }
  ],
  "metadata": {
    "language_info": {
      "name": ""
    },
    "kernelspec": {
      "name": "",
      "display_name": ""
    }
  },
  "nbformat": 4,
  "nbformat_minor": 4
}