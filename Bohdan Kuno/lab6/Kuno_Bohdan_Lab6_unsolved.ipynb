{
 "cells": [
  {
   "cell_type": "markdown",
   "id": "6d4e7def-19e5-419d-a791-f72fe12219fe",
   "metadata": {},
   "source": [
    "<center>\n",
    "    <img src=\"https://cf-courses-data.s3.us.cloud-object-storage.appdomain.cloud/assets/logos/SN_web_lightmode.png\" width=\"300\" alt=\"cognitiveclass.ai logo\">\n",
    "</center>\n",
    "\n",
    "# Forecasting of deaths from Heart Failure on medical measurement\n",
    "\n",
    "Estimated time needed: **30** minutes\n",
    "\n",
    "## Objectives\n",
    "\n",
    "After completing this lab you will be able to:\n",
    "\n",
    "*   Be confident about your data analysis skills\n"
   ]
  },
  {
   "cell_type": "markdown",
   "id": "6adda7ac-5133-40ad-829e-290fe4dae6ea",
   "metadata": {},
   "source": [
    "<p>\n",
    "You can find the \"Heart Disease Dataset UCI\" from the following link: <br><a href=\"https://www.kaggle.com/datasets/ketangangal/heart-disease-dataset-uci\" target=\"_blank\">https://www.kaggle.com/datasets/ketangangal/heart-disease-dataset-uci</a>. <br><br>\n",
    "The statistical data obtained from <a href=\\\"https://www.kaggle.com/datasets/ketangangal/heart-disease-dataset-uci\" target=\\\"_blank\\\">https://www.kaggle.com/datasets/ketangangal/heart-disease-dataset-uci</a> under <a href=\\\"https://creativecommons.org/publicdomain/zero/1.0/\\\" target=\\\"_black\\\">CC0: Public Domain</a> license. <br><br>\n",
    "We will use this dataset in this lab. It contains medical information about patients, who may suffer from heart disease. Comparing it to our previous dataset, this one has similar columns, except target column, which refers to the presence of heart disease in the patient. It is integer valued 0 = no disease and 1 = disease.\n",
    "</p>"
   ]
  },
  {
   "cell_type": "markdown",
   "id": "1e64fbc2-6a73-42fc-8e4c-990fce3eb1f0",
   "metadata": {},
   "source": [
    "You will need the following libraries:\n"
   ]
  },
  {
   "cell_type": "code",
   "execution_count": 1,
   "id": "8d028c90-3416-4472-ba6d-15d5f75ea404",
   "metadata": {},
   "outputs": [],
   "source": [
    "!pip install dython\n",
    "!conda install --yes -c conda-forge imbalanced-learn"
   ]
  },
  {
   "cell_type": "code",
   "execution_count": 2,
   "id": "54a0c87b-318e-4dab-97af-57e20d3609f9",
   "metadata": {},
   "outputs": [],
   "source": [
    "import pandas as pd\n",
    "import numpy as np\n",
    "import matplotlib.pyplot as plt\n",
    "import seaborn as sns\n",
    "from dython.nominal import associations\n",
    "from sklearn.preprocessing import OrdinalEncoder\n",
    "from sklearn.preprocessing import StandardScaler\n",
    "from sklearn.compose import make_column_transformer\n",
    "from sklearn.model_selection import train_test_split\n",
    "from imblearn.pipeline import make_pipeline\n",
    "from sklearn.metrics import plot_confusion_matrix\n",
    "from sklearn.linear_model import LogisticRegression\n",
    "from sklearn.svm import SVC\n",
    "from sklearn.tree import DecisionTreeClassifier, ExtraTreeClassifier\n",
    "from sklearn.ensemble import RandomForestClassifier, AdaBoostClassifier\n",
    "from sklearn.neural_network import MLPClassifier\n",
    "from sklearn.ensemble import GradientBoostingClassifier\n",
    "from sklearn.ensemble import BaggingClassifier\n",
    "from sklearn.ensemble import VotingClassifier\n",
    "from sklearn.metrics import recall_score\n",
    "from sklearn.model_selection import cross_val_score\n",
    "from sklearn.model_selection import cross_val_predict\n",
    "from sklearn import *"
   ]
  },
  {
   "cell_type": "markdown",
   "id": "d942cd3a-b86c-4483-ae39-01c0b0c22834",
   "metadata": {},
   "source": [
    "<div class=\"alert alert-danger alertdanger\" style=\"margin-top: 20px\">\n",
    "If error appeared please restart the kernel or run this block again\n",
    "</div>"
   ]
  },
  {
   "cell_type": "markdown",
   "id": "2cf59b60-f5f5-41a5-b3cd-a497a6e41e18",
   "metadata": {},
   "source": [
    "<b>Importing the Data</b>\n"
   ]
  },
  {
   "cell_type": "markdown",
   "id": "5c425269-a45b-4133-b6d2-21ecbdec68dc",
   "metadata": {},
   "source": [
    "you will need to download the dataset; if you are running locally, please comment out the following \n"
   ]
  },
  {
   "cell_type": "code",
   "execution_count": 3,
   "id": "44d3cd10-a478-40f3-b7a2-d8ff61b6b880",
   "metadata": {},
   "outputs": [],
   "source": [
    "path = 'https://cf-courses-data.s3.us.cloud-object-storage.appdomain.cloud/IBMSkillsNetwork-GPXX0N40EN/heart_disease.csv'"
   ]
  },
  {
   "cell_type": "markdown",
   "id": "203cc377-5f1f-46f5-964e-1699a1658aec",
   "metadata": {},
   "source": [
    "Load the csv:\n"
   ]
  },
  {
   "cell_type": "code",
   "execution_count": 4,
   "id": "f2bc88bc-08fc-4449-825d-472c155dd452",
   "metadata": {},
   "outputs": [],
   "source": [
    "df= pd.read_csv(path)"
   ]
  },
  {
   "cell_type": "markdown",
   "id": "9258be6e-5ffe-4751-87e3-f19338a46960",
   "metadata": {},
   "source": [
    "Set number of digits in float type:"
   ]
  },
  {
   "cell_type": "code",
   "execution_count": 5,
   "id": "8c87f710-cf6e-4fd2-948e-0b798deb0689",
   "metadata": {},
   "outputs": [],
   "source": [
    "pd.options.display.float_format = '{:.2f}'.format"
   ]
  },
  {
   "cell_type": "markdown",
   "id": "001718da-e5f6-4f4d-b747-89204781995b",
   "metadata": {},
   "source": [
    "We use the method  <code>head()</code>  to display the first 5 columns of the dataframe:\n"
   ]
  },
  {
   "cell_type": "code",
   "execution_count": 6,
   "id": "c4e2d49f-371b-4613-b4bc-7880cf3b3838",
   "metadata": {},
   "outputs": [
    {
     "data": {
      "text/plain": "   age     sex chest_pain_type  resting_blood_pressure  cholestoral  \\\n0   52    Male  Typical angina                     125          212   \n1   53    Male  Typical angina                     140          203   \n2   70    Male  Typical angina                     145          174   \n3   61    Male  Typical angina                     148          203   \n4   62  Female  Typical angina                     138          294   \n\n      fasting_blood_sugar               rest_ecg  Max_heart_rate  \\\n0    Lower than 120 mg/ml  ST-T wave abnormality             168   \n1  Greater than 120 mg/ml                 Normal             155   \n2    Lower than 120 mg/ml  ST-T wave abnormality             125   \n3    Lower than 120 mg/ml  ST-T wave abnormality             161   \n4  Greater than 120 mg/ml  ST-T wave abnormality             106   \n\n  exercise_induced_angina  oldpeak        slope vessels_colored_by_flourosopy  \\\n0                      No     1.00  Downsloping                           Two   \n1                     Yes     3.10    Upsloping                          Zero   \n2                     Yes     2.60    Upsloping                          Zero   \n3                      No     0.00  Downsloping                           One   \n4                      No     1.90         Flat                         Three   \n\n         thalassemia  target  \n0  Reversable Defect       0  \n1  Reversable Defect       0  \n2  Reversable Defect       0  \n3  Reversable Defect       0  \n4       Fixed Defect       0  ",
      "text/html": "<div>\n<style scoped>\n    .dataframe tbody tr th:only-of-type {\n        vertical-align: middle;\n    }\n\n    .dataframe tbody tr th {\n        vertical-align: top;\n    }\n\n    .dataframe thead th {\n        text-align: right;\n    }\n</style>\n<table border=\"1\" class=\"dataframe\">\n  <thead>\n    <tr style=\"text-align: right;\">\n      <th></th>\n      <th>age</th>\n      <th>sex</th>\n      <th>chest_pain_type</th>\n      <th>resting_blood_pressure</th>\n      <th>cholestoral</th>\n      <th>fasting_blood_sugar</th>\n      <th>rest_ecg</th>\n      <th>Max_heart_rate</th>\n      <th>exercise_induced_angina</th>\n      <th>oldpeak</th>\n      <th>slope</th>\n      <th>vessels_colored_by_flourosopy</th>\n      <th>thalassemia</th>\n      <th>target</th>\n    </tr>\n  </thead>\n  <tbody>\n    <tr>\n      <th>0</th>\n      <td>52</td>\n      <td>Male</td>\n      <td>Typical angina</td>\n      <td>125</td>\n      <td>212</td>\n      <td>Lower than 120 mg/ml</td>\n      <td>ST-T wave abnormality</td>\n      <td>168</td>\n      <td>No</td>\n      <td>1.00</td>\n      <td>Downsloping</td>\n      <td>Two</td>\n      <td>Reversable Defect</td>\n      <td>0</td>\n    </tr>\n    <tr>\n      <th>1</th>\n      <td>53</td>\n      <td>Male</td>\n      <td>Typical angina</td>\n      <td>140</td>\n      <td>203</td>\n      <td>Greater than 120 mg/ml</td>\n      <td>Normal</td>\n      <td>155</td>\n      <td>Yes</td>\n      <td>3.10</td>\n      <td>Upsloping</td>\n      <td>Zero</td>\n      <td>Reversable Defect</td>\n      <td>0</td>\n    </tr>\n    <tr>\n      <th>2</th>\n      <td>70</td>\n      <td>Male</td>\n      <td>Typical angina</td>\n      <td>145</td>\n      <td>174</td>\n      <td>Lower than 120 mg/ml</td>\n      <td>ST-T wave abnormality</td>\n      <td>125</td>\n      <td>Yes</td>\n      <td>2.60</td>\n      <td>Upsloping</td>\n      <td>Zero</td>\n      <td>Reversable Defect</td>\n      <td>0</td>\n    </tr>\n    <tr>\n      <th>3</th>\n      <td>61</td>\n      <td>Male</td>\n      <td>Typical angina</td>\n      <td>148</td>\n      <td>203</td>\n      <td>Lower than 120 mg/ml</td>\n      <td>ST-T wave abnormality</td>\n      <td>161</td>\n      <td>No</td>\n      <td>0.00</td>\n      <td>Downsloping</td>\n      <td>One</td>\n      <td>Reversable Defect</td>\n      <td>0</td>\n    </tr>\n    <tr>\n      <th>4</th>\n      <td>62</td>\n      <td>Female</td>\n      <td>Typical angina</td>\n      <td>138</td>\n      <td>294</td>\n      <td>Greater than 120 mg/ml</td>\n      <td>ST-T wave abnormality</td>\n      <td>106</td>\n      <td>No</td>\n      <td>1.90</td>\n      <td>Flat</td>\n      <td>Three</td>\n      <td>Fixed Defect</td>\n      <td>0</td>\n    </tr>\n  </tbody>\n</table>\n</div>"
     },
     "execution_count": 6,
     "metadata": {},
     "output_type": "execute_result"
    }
   ],
   "source": [
    "df.head()"
   ]
  },
  {
   "cell_type": "markdown",
   "id": "3c6fd478-6fd9-484b-b27c-48495ac3890f",
   "metadata": {},
   "source": [
    "<details>\n",
    "<summary><b>Click to see attribute information</b></summary>\n",
    "\n",
    "Input features (column names):\n",
    "\n",
    "1. `age` - patient's age in years\n",
    "2. `sex` - patient's sex ('Male', 'Female')\n",
    "3. `chest_pain_type` - chest pain type ('typical angina', 'atypical angina', 'non-anginal pain', 'asymptomatic')\n",
    "4. `resting_blood_pressure` - resting blood pressure\n",
    "5. `cholestoral` - serum cholestoral in mg/dl\n",
    "6. `fasting_blood_sugar` - fasting blood sugar > 120 mg/dl\n",
    "7. `rest_ecg` - resting electrocardiographic results ('normal', 'ST-T wave abnormality', 'Left ventricular hypertrophy')\n",
    "8. `Max_heart_rate` - maximum heart rate achieved\n",
    "9. `exercise_induced_angina` - exercise induced angina ('Yes', 'No')\n",
    "10. `oldpeak` - ST depression induced by exercise relative to rest\n",
    "11. `slope` - the slope of the peak exercise ST segment ('Upsloping', 'Downsloping', 'Flat')\n",
    "12. `vessels_colored_by_flourosopy` - number of major vessels colored by fluoroscopy\n",
    "13. `thalassemia` - normal; fixed defect; reversible defect\n",
    "\n",
    "Output feature (desired target):\n",
    "\n",
    "14. `target` - does the patient have heart disease? (binary)\n",
    "</details>"
   ]
  },
  {
   "cell_type": "markdown",
   "id": "4867bafb-976a-4a82-86d0-9f44ad9acfe6",
   "metadata": {},
   "source": [
    "<b>Question 1</b>:  Display the data types of each column using the attribute `dtype`.\n"
   ]
  },
  {
   "cell_type": "code",
   "execution_count": 6,
   "id": "84f6ea49-2fb1-43ef-a8c7-33f519f3eee7",
   "metadata": {},
   "outputs": [],
   "source": []
  },
  {
   "cell_type": "markdown",
   "id": "b78c9b47-9dbe-4766-96eb-759efe55a057",
   "metadata": {},
   "source": [
    "<b>Question 2</b>: Check if this DataSet contains NaN values:\n"
   ]
  },
  {
   "cell_type": "code",
   "execution_count": 6,
   "id": "98e29395-2ae3-4583-9cfc-236f0936ccfc",
   "metadata": {},
   "outputs": [],
   "source": []
  },
  {
   "cell_type": "markdown",
   "id": "bf7d3207-24e4-40ae-9322-c9bd585738bf",
   "metadata": {},
   "source": [
    "<b>Question 3:</b> Check the correlation (numerical values) and association (objects) of each pair of columns.\n"
   ]
  },
  {
   "cell_type": "code",
   "execution_count": 6,
   "id": "62256e19-3d86-4ff5-b286-c65232933123",
   "metadata": {},
   "outputs": [],
   "source": []
  },
  {
   "cell_type": "markdown",
   "id": "23fa3213-a9b1-4a6a-b0f4-c68dfe622c80",
   "metadata": {},
   "source": [
    "<b>Question 4:</b> Divide the dataset into input and target factors.\n"
   ]
  },
  {
   "cell_type": "code",
   "execution_count": 6,
   "id": "5f767fc2-0a00-4c60-8743-67df9964541a",
   "metadata": {},
   "outputs": [],
   "source": []
  },
  {
   "cell_type": "markdown",
   "id": "f0d9c0ea-2637-4ba4-be3f-7c507e7e6428",
   "metadata": {},
   "source": [
    "<b>Question 5</b>: Create column transformer using `OrdinalEncoder()` and `StandardScaler()` and visualize it.\n"
   ]
  },
  {
   "cell_type": "code",
   "execution_count": 6,
   "id": "241e9f73-9a49-4b08-bbcf-c963dacc87c6",
   "metadata": {},
   "outputs": [],
   "source": []
  },
  {
   "cell_type": "markdown",
   "id": "1f48abd3-a7fb-4d09-9134-cf623c17a1dd",
   "metadata": {},
   "source": [
    "<b> Question 6:</b> Separate DataSets for train and test DataSets in 0.3 proportion train/test.\n"
   ]
  },
  {
   "cell_type": "code",
   "execution_count": 6,
   "id": "0f7bac7a-a65a-4045-afc9-abf45edfad93",
   "metadata": {},
   "outputs": [],
   "source": []
  },
  {
   "cell_type": "markdown",
   "id": "ac6aaef5-c740-4cc4-b32c-65b169c570f8",
   "metadata": {},
   "source": [
    "<b>Question 7: </b> Create Pipeline using `LogisticRegression()` model and show its accuracy and recall score.\n"
   ]
  },
  {
   "cell_type": "code",
   "execution_count": 6,
   "id": "cc0e3146-53ae-43a6-88df-dc9b50f74e43",
   "metadata": {},
   "outputs": [],
   "source": []
  },
  {
   "cell_type": "markdown",
   "id": "1b8d7230-939c-4cf8-9cd0-2918b08350de",
   "metadata": {},
   "source": [
    "<b>Question 8 :</b> Calculate Cross-Validation Score using 4 folds, calculate the average and standard deviation of estimate and predict the output."
   ]
  },
  {
   "cell_type": "code",
   "execution_count": 6,
   "id": "0cec9ce4-540a-477a-892a-c382d8d308b6",
   "metadata": {},
   "outputs": [],
   "source": []
  },
  {
   "cell_type": "markdown",
   "id": "95209bd9-ad2a-42ce-81b2-1b7eb3cae770",
   "metadata": {},
   "source": [
    "<b>Question 9 :</b> Plot the confusion matrix to evaluate the correctness of the classification.\n"
   ]
  },
  {
   "cell_type": "code",
   "execution_count": 6,
   "id": "ce14f124-f141-4351-99f3-a2747bdf2050",
   "metadata": {},
   "outputs": [],
   "source": []
  },
  {
   "cell_type": "markdown",
   "id": "263c7b66-5598-4bde-bfb7-68e759991ad4",
   "metadata": {},
   "source": [
    "<b>Question 10</b>: Check whether the number of values of target column is similar, use `RandomOverSampler()` if it's not.\n"
   ]
  },
  {
   "cell_type": "code",
   "execution_count": 6,
   "id": "59d667a8-e908-4820-86ac-3141115bc98f",
   "metadata": {},
   "outputs": [],
   "source": []
  },
  {
   "cell_type": "markdown",
   "id": "5c90d1b8-33ab-4e14-baeb-4009087ebdac",
   "metadata": {},
   "source": [
    "<b>Question 11</b>: Test different classifiers including `VotingClassifier()` and calculate their accuracy.\n"
   ]
  },
  {
   "cell_type": "code",
   "execution_count": 6,
   "id": "82f5174d-42b4-406c-82cd-16ef6ccf12b8",
   "metadata": {},
   "outputs": [],
   "source": []
  },
  {
   "cell_type": "markdown",
   "id": "5120f02b-54c1-4a6d-b3d3-86cd63fd7de2",
   "metadata": {},
   "source": [
    "<b>Question 12</b>: Compare the accuracy of classifiers and build a plot to visualize it.\n"
   ]
  },
  {
   "cell_type": "code",
   "execution_count": 6,
   "id": "6cc116d0-2f55-43ec-9009-a426e26dbc54",
   "metadata": {},
   "outputs": [],
   "source": []
  },
  {
   "cell_type": "markdown",
   "id": "d1bc12b9-f40a-4f3e-8017-d382916c8f79",
   "metadata": {},
   "source": [
    "<b>Question 13</b>: Create a Pipeline based on Decision Tree, calculate and visualize its accuracy. Use `max_depth = 3` in order to see the vertices clearly."
   ]
  },
  {
   "cell_type": "code",
   "execution_count": 6,
   "id": "868325bb-f3e4-440d-9db1-ec8aca79de8f",
   "metadata": {},
   "outputs": [],
   "source": []
  },
  {
   "cell_type": "markdown",
   "id": "2e08af33-822c-46ac-9698-12ee944b251c",
   "metadata": {},
   "source": [
    "<b>Question 14</b>: Visualize the Decision Tree using `plot_tree` function."
   ]
  },
  {
   "cell_type": "code",
   "execution_count": 6,
   "id": "1185932f-887f-40b6-aac7-c79edf487d9e",
   "metadata": {},
   "outputs": [],
   "source": []
  },
  {
   "cell_type": "markdown",
   "id": "3f1d4c1c-f4c6-4200-9f44-96bb0eafc235",
   "metadata": {},
   "source": [
    "<b>Question 15</b>: Write `create_ensemble()` function, that can create ensemble using a predetermined number of classifiers. Make a pipeline with it, fit it and calculate its accuracy."
   ]
  },
  {
   "cell_type": "code",
   "execution_count": 6,
   "id": "ec52fdf2-e3c7-4215-aed0-22c2f11aff3f",
   "metadata": {},
   "outputs": [],
   "source": []
  },
  {
   "cell_type": "markdown",
   "id": "12a1a03f-fe35-45d4-94bc-26c5dbf13e15",
   "metadata": {},
   "source": [
    "<b>Question 16</b>: Write `make_prediction()` function, that returns an answer to whether the patient has heart disease. Input should contain a DataFrame and a classifier.\n"
   ]
  },
  {
   "cell_type": "code",
   "execution_count": 6,
   "id": "24ff35ef-d5cf-4404-855f-d696f97d82a2",
   "metadata": {},
   "outputs": [],
   "source": []
  },
  {
   "cell_type": "markdown",
   "id": "4781d694-7368-4e61-9cc1-8b678238b06f",
   "metadata": {},
   "source": [
    "<b>Question 17</b>: Create a new ensemble of your own list of classifiers using the first function.  "
   ]
  },
  {
   "cell_type": "code",
   "execution_count": 6,
   "id": "f8348050-a3fa-4298-b103-9b311ef7046b",
   "metadata": {},
   "outputs": [],
   "source": []
  },
  {
   "cell_type": "markdown",
   "id": "7f411082-68a3-4e20-b3f9-3ab893af9239",
   "metadata": {},
   "source": [
    "<b>Question 18</b>: Predict the output with your own data, using the second function and the ensemble you just obtained."
   ]
  },
  {
   "cell_type": "code",
   "execution_count": 6,
   "id": "098bdd62-3f1f-4c7b-a8bf-1d491163387a",
   "metadata": {},
   "outputs": [],
   "source": []
  },
  {
   "cell_type": "markdown",
   "id": "3b731771-71f5-49d8-b638-dfc5bfe9fa14",
   "metadata": {},
   "source": [
    "<b>Sources</b>\n"
   ]
  },
  {
   "cell_type": "markdown",
   "id": "93a8b8e9-4075-4989-883e-741d484db3ac",
   "metadata": {},
   "source": [
    "<a href=\"https://www.kaggle.com/datasets/ketangangal/heart-disease-dataset-uci\" target=\"_blank\">https://www.kaggle.com/datasets/ketangangal/heart-disease-dataset-uci</a>."
   ]
  },
  {
   "cell_type": "markdown",
   "id": "eb29fc9f-96bd-4e8e-a85a-38f2b6c97bb6",
   "metadata": {
    "pycharm": {
     "name": "#%% md\n"
    }
   },
   "source": [
    "### Thank you for completing this lab!\n",
    "\n",
    "## Author\n",
    "\n",
    "<a href=\"https://author.skills.network/instructors/bohdan_kuno\">Bohdan Kuno</a>\n",
    "\n",
    "### Other Contributors\n",
    "\n",
    "<a href=\"https://author.skills.network/instructors/yaroslav_vyklyuk_2\">Prof. Yaroslav Vyklyuk, DrSc, PhD</a>\n",
    "\n",
    "<a href=\"https://author.skills.network/instructors/nataliya_boyko\">Ass. Prof. Nataliya Boyko, PhD</a>\n",
    "\n",
    "## Change Log\n",
    "\n",
    "| Date (YYYY-MM-DD) | Version | Changed By | Change Description                                         |\n",
    "| ----------------- | ------- | ---------- | ---------------------------------------------------------- |\n",
    "|2023-04-01|01|Bohdan Kuno|Lab created|\n",
    "\n",
    "\n",
    "<hr>\n",
    "\n",
    "## <h3 align=\"center\"> © IBM Corporation 2020. All rights reserved. <h3/>\n"
   ]
  }
 ],
 "metadata": {
  "kernelspec": {
   "display_name": "Python 3",
   "language": "python",
   "name": "python3"
  },
  "language_info": {
   "codemirror_mode": {
    "name": "ipython",
    "version": 3
   },
   "file_extension": ".py",
   "mimetype": "text/x-python",
   "name": "python",
   "nbconvert_exporter": "python",
   "pygments_lexer": "ipython3",
   "version": "3.8.8"
  }
 },
 "nbformat": 4,
 "nbformat_minor": 5
}